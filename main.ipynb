{
 "cells": [
  {
   "cell_type": "markdown",
   "id": "3a950b93",
   "metadata": {},
   "source": [
    "### 1. Загрузка данных "
   ]
  },
  {
   "cell_type": "code",
   "execution_count": 2,
   "id": "fb41573f",
   "metadata": {},
   "outputs": [],
   "source": [
    "import pandas as pd\n",
    "from datetime import date, timedelta \n",
    "import urllib.request\n",
    "from io import open\n",
    "from io import StringIO\n",
    "from geopy.distance import distance\n",
    "import numpy as np"
   ]
  },
  {
   "cell_type": "markdown",
   "id": "29afb677",
   "metadata": {},
   "source": [
    "Чтобы не было путаницы в источниках магнитуд возьмем данные NIED (Япония все-таки)"
   ]
  },
  {
   "cell_type": "code",
   "execution_count": 3,
   "id": "c790dc13",
   "metadata": {},
   "outputs": [],
   "source": [
    "yst = \"27.5\"\n",
    "yen = \"42.5\"\n",
    "xst = \"130\"\n",
    "xen = \"144\"\n",
    "author = \"NIED\"\n",
    "type_ = \"Any\"\n",
    "start_time = date(1995, 1, 1)\n",
    "end_time = date(2005, 1, 1)"
   ]
  },
  {
   "cell_type": "code",
   "execution_count": 4,
   "id": "1cb0f6af",
   "metadata": {},
   "outputs": [],
   "source": [
    "url = \"http://isc-mirror.iris.washington.edu/cgi-bin/web-db-v4?request=COMPREHENSIVE&out_format=CATCSV&searchshape=RECT&bot_lat=\" + yst + \"&top_lat=\" + yen + \"&left_lon=\" + xst + \"&right_lon=\" + xen + \"&ctr_lat=&ctr_lon=&radius=&max_dist_units=deg&srn=&grn=&start_year=\" + str(start_time.year) + \"&start_month=\" + str(start_time.month) + \"&start_day=\" + str(start_time.day) + \"&start_time=00%3A00%3A00&end_year=\" + str(end_time.year) + \"&end_month=\" + str(end_time.month) + \"&end_day=\" + str(end_time.day) + \"&end_time=00%3A00%3A00&min_dep=&max_dep=&null_dep=on&min_mag=\" + \"&max_mag=&req_mag_type=\" + type_ + \"&req_mag_agcy=\" + author"
   ]
  },
  {
   "cell_type": "code",
   "execution_count": 14,
   "id": "787e9dd7",
   "metadata": {},
   "outputs": [],
   "source": [
    "csv = urllib.request.urlopen(url).read().decode(\"utf-8\") "
   ]
  },
  {
   "cell_type": "code",
   "execution_count": 15,
   "id": "dad9146f",
   "metadata": {},
   "outputs": [],
   "source": [
    "start = csv.find('...')\n",
    "end = csv.find('STOP', start)\n",
    "csv = csv[start + 5:end]"
   ]
  },
  {
   "cell_type": "code",
   "execution_count": 16,
   "id": "81d3f7c4",
   "metadata": {},
   "outputs": [],
   "source": [
    "df = pd.read_csv(StringIO(csv), sep=\",\", on_bad_lines='skip')"
   ]
  },
  {
   "cell_type": "code",
   "execution_count": 8,
   "id": "2d67ffc3",
   "metadata": {},
   "outputs": [],
   "source": [
    "df = df.rename(columns = {' EVENTID': 'EVENTID', 'AUTHOR   ': 'AUTHOR', 'DATE      ': 'DATE','TIME       ': 'TIME', 'LAT     ':'LAT', 'LON      ': 'LON', 'AUTHOR   .1': 'AUTHOR MAG', 'TYPE  ': 'TYPE MAG', 'MAG ': 'MAG'})"
   ]
  },
  {
   "cell_type": "code",
   "execution_count": 9,
   "id": "6de81634",
   "metadata": {},
   "outputs": [],
   "source": [
    "df.to_csv('raw_data.csv', index=False)"
   ]
  },
  {
   "cell_type": "markdown",
   "id": "0824d14d",
   "metadata": {},
   "source": [
    "### 2. Обработка данных"
   ]
  },
  {
   "cell_type": "code",
   "execution_count": 93,
   "id": "04f0441d",
   "metadata": {},
   "outputs": [],
   "source": [
    "import math\n",
    "import matplotlib.pyplot as plt"
   ]
  },
  {
   "cell_type": "code",
   "execution_count": 4,
   "id": "cc735cc2",
   "metadata": {},
   "outputs": [],
   "source": [
    "df = pd.read_csv('raw_data.csv')"
   ]
  },
  {
   "cell_type": "code",
   "execution_count": 7,
   "id": "251b3f1e",
   "metadata": {
    "scrolled": true
   },
   "outputs": [
    {
     "data": {
      "text/html": [
       "<div>\n",
       "<style scoped>\n",
       "    .dataframe tbody tr th:only-of-type {\n",
       "        vertical-align: middle;\n",
       "    }\n",
       "\n",
       "    .dataframe tbody tr th {\n",
       "        vertical-align: top;\n",
       "    }\n",
       "\n",
       "    .dataframe thead th {\n",
       "        text-align: right;\n",
       "    }\n",
       "</style>\n",
       "<table border=\"1\" class=\"dataframe\">\n",
       "  <thead>\n",
       "    <tr style=\"text-align: right;\">\n",
       "      <th></th>\n",
       "      <th>EVENTID</th>\n",
       "      <th>TYPE</th>\n",
       "      <th>AUTHOR</th>\n",
       "      <th>DATE</th>\n",
       "      <th>TIME</th>\n",
       "      <th>LAT</th>\n",
       "      <th>LON</th>\n",
       "      <th>DEPTH</th>\n",
       "      <th>DEPFIX</th>\n",
       "      <th>AUTHOR MAG</th>\n",
       "      <th>TYPE MAG</th>\n",
       "      <th>MAG</th>\n",
       "    </tr>\n",
       "  </thead>\n",
       "  <tbody>\n",
       "    <tr>\n",
       "      <th>6179</th>\n",
       "      <td>7457443</td>\n",
       "      <td>fe</td>\n",
       "      <td>ISC</td>\n",
       "      <td>2004-12-30</td>\n",
       "      <td>15:15:48.62</td>\n",
       "      <td>33.0934</td>\n",
       "      <td>140.7714</td>\n",
       "      <td>47.3</td>\n",
       "      <td></td>\n",
       "      <td>NIED</td>\n",
       "      <td>Mw</td>\n",
       "      <td>3.8</td>\n",
       "    </tr>\n",
       "    <tr>\n",
       "      <th>6180</th>\n",
       "      <td>7457475</td>\n",
       "      <td>ke</td>\n",
       "      <td>ISC</td>\n",
       "      <td>2004-12-30</td>\n",
       "      <td>17:28:16.61</td>\n",
       "      <td>28.9417</td>\n",
       "      <td>130.5682</td>\n",
       "      <td>40.0</td>\n",
       "      <td>TRUE</td>\n",
       "      <td>NIED</td>\n",
       "      <td>Mw</td>\n",
       "      <td>4.3</td>\n",
       "    </tr>\n",
       "    <tr>\n",
       "      <th>6181</th>\n",
       "      <td>7457810</td>\n",
       "      <td>fe</td>\n",
       "      <td>ISC</td>\n",
       "      <td>2004-12-31</td>\n",
       "      <td>08:30:22.60</td>\n",
       "      <td>39.8090</td>\n",
       "      <td>142.4733</td>\n",
       "      <td>56.2</td>\n",
       "      <td></td>\n",
       "      <td>NIED</td>\n",
       "      <td>Mw</td>\n",
       "      <td>4.3</td>\n",
       "    </tr>\n",
       "    <tr>\n",
       "      <th>6182</th>\n",
       "      <td>7457844</td>\n",
       "      <td>ke</td>\n",
       "      <td>ISC</td>\n",
       "      <td>2004-12-31</td>\n",
       "      <td>09:58:50.39</td>\n",
       "      <td>39.8976</td>\n",
       "      <td>143.5029</td>\n",
       "      <td>6.0</td>\n",
       "      <td>TRUE</td>\n",
       "      <td>NIED</td>\n",
       "      <td>Mw</td>\n",
       "      <td>4.2</td>\n",
       "    </tr>\n",
       "    <tr>\n",
       "      <th>6183</th>\n",
       "      <td>7458037</td>\n",
       "      <td>fe</td>\n",
       "      <td>ISC</td>\n",
       "      <td>2004-12-31</td>\n",
       "      <td>20:13:48.62</td>\n",
       "      <td>36.8474</td>\n",
       "      <td>140.9306</td>\n",
       "      <td>88.2</td>\n",
       "      <td></td>\n",
       "      <td>NIED</td>\n",
       "      <td>Mw</td>\n",
       "      <td>5.0</td>\n",
       "    </tr>\n",
       "  </tbody>\n",
       "</table>\n",
       "</div>"
      ],
      "text/plain": [
       "      EVENTID  TYPE     AUTHOR        DATE         TIME      LAT       LON  \\\n",
       "6179  7457443  fe    ISC        2004-12-30  15:15:48.62  33.0934  140.7714   \n",
       "6180  7457475  ke    ISC        2004-12-30  17:28:16.61  28.9417  130.5682   \n",
       "6181  7457810  fe    ISC        2004-12-31  08:30:22.60  39.8090  142.4733   \n",
       "6182  7457844  ke    ISC        2004-12-31  09:58:50.39  39.8976  143.5029   \n",
       "6183  7458037  fe    ISC        2004-12-31  20:13:48.62  36.8474  140.9306   \n",
       "\n",
       "      DEPTH  DEPFIX AUTHOR MAG TYPE MAG  MAG  \n",
       "6179   47.3          NIED        Mw      3.8  \n",
       "6180   40.0  TRUE    NIED        Mw      4.3  \n",
       "6181   56.2          NIED        Mw      4.3  \n",
       "6182    6.0  TRUE    NIED        Mw      4.2  \n",
       "6183   88.2          NIED        Mw      5.0  "
      ]
     },
     "execution_count": 7,
     "metadata": {},
     "output_type": "execute_result"
    }
   ],
   "source": [
    "df.tail()"
   ]
  },
  {
   "cell_type": "code",
   "execution_count": 8,
   "id": "b018d027",
   "metadata": {},
   "outputs": [],
   "source": [
    "df['COORDINATE'] = df.apply(lambda x: (x['LAT'], x['LON']), axis = 1)"
   ]
  },
  {
   "cell_type": "code",
   "execution_count": 9,
   "id": "b05b28ac",
   "metadata": {},
   "outputs": [],
   "source": [
    "df['DATE'] = df.apply(lambda x: date(int(x['DATE'][:4]), int(x['DATE'][5:7]), int(x['DATE'][8:10])), axis=1)"
   ]
  },
  {
   "cell_type": "markdown",
   "id": "3fdf543b",
   "metadata": {},
   "source": [
    "Возьмем только события, магнитуда которых, превышает магнитуду полноты $M = 3$ (хотя это вроде вся таблица и есть)"
   ]
  },
  {
   "cell_type": "code",
   "execution_count": 98,
   "id": "c7ae130d",
   "metadata": {},
   "outputs": [],
   "source": [
    "df = df[df['MAG'] >= 3]"
   ]
  },
  {
   "cell_type": "markdown",
   "id": "4a2bc0e7",
   "metadata": {},
   "source": [
    "Выведем средние, максимальные и минимальные значения даты/долготы/широты/магнитуды\n"
   ]
  },
  {
   "cell_type": "code",
   "execution_count": 99,
   "id": "25c30a16",
   "metadata": {},
   "outputs": [],
   "source": [
    "statistics = df[['DATE', 'LAT', 'LON', 'MAG']].min().to_frame(name='min')\n",
    "statistics['max'] = df[['DATE', 'LAT', 'LON', 'MAG']].max()"
   ]
  },
  {
   "cell_type": "code",
   "execution_count": 100,
   "id": "60091522",
   "metadata": {},
   "outputs": [],
   "source": [
    "a = df[['LAT', 'LON', 'MAG']].mean()"
   ]
  },
  {
   "cell_type": "markdown",
   "id": "1c6742fc",
   "metadata": {},
   "source": [
    "Для подсчета средней даты переведем в юлианскую дату (эти функции я не от нечего делать писала - это я честно скопировала с чужого github'а)"
   ]
  },
  {
   "cell_type": "code",
   "execution_count": 101,
   "id": "bd68058b",
   "metadata": {},
   "outputs": [],
   "source": [
    "def date_to_jd(year,month,day):\n",
    "    if month == 1 or month == 2:\n",
    "        yearp = year - 1\n",
    "        monthp = month + 12\n",
    "    else:\n",
    "        yearp = year\n",
    "        monthp = month\n",
    "    if ((year < 1582) or\n",
    "        (year == 1582 and month < 10) or\n",
    "        (year == 1582 and month == 10 and day < 15)):\n",
    "        B = 0\n",
    "    else:\n",
    "        A = math.trunc(yearp / 100.)\n",
    "        B = 2 - A + math.trunc(A / 4.)\n",
    "    if yearp < 0:\n",
    "        C = math.trunc((365.25 * yearp) - 0.75)\n",
    "    else:\n",
    "        C = math.trunc(365.25 * yearp)\n",
    "    D = math.trunc(30.6001 * (monthp + 1))\n",
    "    jd = B + C + D + day + 1720994.5\n",
    "    return jd"
   ]
  },
  {
   "cell_type": "code",
   "execution_count": 102,
   "id": "d27b8765",
   "metadata": {},
   "outputs": [],
   "source": [
    "def jd_to_date(jd):\n",
    "    jd = jd + 0.5\n",
    "    F, I = math.modf(jd)\n",
    "    I = int(I)\n",
    "    A = math.trunc((I - 1867216.25)/36524.25)\n",
    "    if I > 2299160:\n",
    "        B = I + 1 + A - math.trunc(A / 4.)\n",
    "    else:\n",
    "        B = I   \n",
    "    C = B + 1524\n",
    "    D = math.trunc((C - 122.1) / 365.25)\n",
    "    E = math.trunc(365.25 * D)\n",
    "    G = math.trunc((C - E) / 30.6001)\n",
    "    day = C - E + F - math.trunc(30.6001 * G)\n",
    "    if G < 13.5:\n",
    "        month = G - 1\n",
    "    else:\n",
    "        month = G - 13\n",
    "        \n",
    "    if month > 2.5:\n",
    "        year = D - 4716\n",
    "    else:\n",
    "        year = D - 4715\n",
    "        \n",
    "    return date(int(year), int(month), int(day))"
   ]
  },
  {
   "cell_type": "code",
   "execution_count": 103,
   "id": "387fab10",
   "metadata": {},
   "outputs": [],
   "source": [
    "df['JD'] = df.apply(lambda x: date_to_jd(x['DATE'].year, x['DATE'].month, x['DATE'].day), axis=1)"
   ]
  },
  {
   "cell_type": "code",
   "execution_count": 104,
   "id": "85419b15",
   "metadata": {},
   "outputs": [],
   "source": [
    "mean_JD = df['JD'].mean()"
   ]
  },
  {
   "cell_type": "code",
   "execution_count": 105,
   "id": "8d1f2939",
   "metadata": {},
   "outputs": [],
   "source": [
    "a['DATE'] = jd_to_date(mean_JD)"
   ]
  },
  {
   "cell_type": "code",
   "execution_count": 106,
   "id": "784b0db9",
   "metadata": {},
   "outputs": [],
   "source": [
    "statistics['mean'] = a"
   ]
  },
  {
   "cell_type": "code",
   "execution_count": 107,
   "id": "b7376203",
   "metadata": {
    "scrolled": true
   },
   "outputs": [
    {
     "data": {
      "text/html": [
       "<div>\n",
       "<style scoped>\n",
       "    .dataframe tbody tr th:only-of-type {\n",
       "        vertical-align: middle;\n",
       "    }\n",
       "\n",
       "    .dataframe tbody tr th {\n",
       "        vertical-align: top;\n",
       "    }\n",
       "\n",
       "    .dataframe thead th {\n",
       "        text-align: right;\n",
       "    }\n",
       "</style>\n",
       "<table border=\"1\" class=\"dataframe\">\n",
       "  <thead>\n",
       "    <tr style=\"text-align: right;\">\n",
       "      <th></th>\n",
       "      <th>min</th>\n",
       "      <th>max</th>\n",
       "      <th>mean</th>\n",
       "    </tr>\n",
       "  </thead>\n",
       "  <tbody>\n",
       "    <tr>\n",
       "      <th>DATE</th>\n",
       "      <td>1997-01-04</td>\n",
       "      <td>2004-12-31</td>\n",
       "      <td>2001-05-31</td>\n",
       "    </tr>\n",
       "    <tr>\n",
       "      <th>LAT</th>\n",
       "      <td>27.5117</td>\n",
       "      <td>42.5</td>\n",
       "      <td>35.387144</td>\n",
       "    </tr>\n",
       "    <tr>\n",
       "      <th>LON</th>\n",
       "      <td>130.0</td>\n",
       "      <td>144.0</td>\n",
       "      <td>138.937805</td>\n",
       "    </tr>\n",
       "    <tr>\n",
       "      <th>MAG</th>\n",
       "      <td>3.1</td>\n",
       "      <td>7.9</td>\n",
       "      <td>4.087435</td>\n",
       "    </tr>\n",
       "  </tbody>\n",
       "</table>\n",
       "</div>"
      ],
      "text/plain": [
       "             min         max        mean\n",
       "DATE  1997-01-04  2004-12-31  2001-05-31\n",
       "LAT      27.5117        42.5   35.387144\n",
       "LON        130.0       144.0  138.937805\n",
       "MAG          3.1         7.9    4.087435"
      ]
     },
     "execution_count": 107,
     "metadata": {},
     "output_type": "execute_result"
    }
   ],
   "source": [
    "statistics"
   ]
  },
  {
   "cell_type": "markdown",
   "id": "8dfe21a8",
   "metadata": {},
   "source": [
    "Выведем также гистограммы магнитуды с точностью до целой части (для этого в частности округлим магнитуды, а не просто возьмем целую часть)"
   ]
  },
  {
   "cell_type": "code",
   "execution_count": 108,
   "id": "140b59b4",
   "metadata": {},
   "outputs": [],
   "source": [
    "mx = math.ceil(df['MAG'].max())"
   ]
  },
  {
   "cell_type": "code",
   "execution_count": 109,
   "id": "df24a560",
   "metadata": {
    "scrolled": false
   },
   "outputs": [
    {
     "data": {
      "image/png": "[encoded data removed]",
      "text/plain": [
       "<Figure size 432x288 with 1 Axes>"
      ]
     },
     "metadata": {
      "needs_background": "light"
     },
     "output_type": "display_data"
    }
   ],
   "source": [
    "plt.hist(df['MAG'], np.arange(0, mx + 1, 1))\n",
    "plt.grid(True)\n",
    "plt.xlabel('Magnitude')\n",
    "plt.ylabel('#events')\n",
    "plt.show()"
   ]
  },
  {
   "cell_type": "markdown",
   "id": "4005e24f",
   "metadata": {},
   "source": [
    "Выведем точное количество:"
   ]
  },
  {
   "cell_type": "code",
   "execution_count": 110,
   "id": "740d3af9",
   "metadata": {},
   "outputs": [
    {
     "name": "stdout",
     "output_type": "stream",
     "text": [
      "0-1: 0\n",
      "1-2: 0\n",
      "2-3: 0\n",
      "3-4: 2878\n",
      "4-5: 2904\n",
      "5-6: 368\n",
      "6-7: 29\n",
      "7-8: 5\n",
      "8-9: 0\n"
     ]
    }
   ],
   "source": [
    "for i in range(0, mx + 1):\n",
    "    m = df[df['MAG'].astype('int') == i].count()[0]\n",
    "    print(str(i) + '-' + str(i + 1) + ': ' + str(m))\n",
    "    \n"
   ]
  },
  {
   "cell_type": "markdown",
   "id": "cfadbb3d",
   "metadata": {},
   "source": [
    "### 3 Подсчет средней магнитуды и плотности землетрясений "
   ]
  },
  {
   "cell_type": "markdown",
   "id": "c39be2d2",
   "metadata": {},
   "source": [
    "Посчитаем расстояние $dx$ и $dy$ - расстояния по долготе и по широте соответсвующие $R$"
   ]
  },
  {
   "cell_type": "code",
   "execution_count": 22,
   "id": "bbe9b452",
   "metadata": {},
   "outputs": [],
   "source": [
    "yen = float(yen)\n",
    "yst = float(yst)\n",
    "xen = float(xen)\n",
    "xst = float(xst)"
   ]
  },
  {
   "cell_type": "code",
   "execution_count": 112,
   "id": "5c234f42",
   "metadata": {},
   "outputs": [],
   "source": [
    "R_earth = 6371\n",
    "y_mean = (yst + yen) / 2"
   ]
  },
  {
   "cell_type": "markdown",
   "id": "938d5126",
   "metadata": {},
   "source": [
    "Плотность будет иметь размерность $\\frac{1}{\\text{км}^2 \\cdot \\text{дни}}$"
   ]
  },
  {
   "cell_type": "code",
   "execution_count": 113,
   "id": "1e4f1f74",
   "metadata": {},
   "outputs": [],
   "source": [
    "def density(x, df, R = 100, T = 365):\n",
    "    dy = (R * 360) / (2 * np.pi * R_earth)\n",
    "    dx = (R * 360) / (2 * np.pi * R_earth * np.cos(np.deg2rad(y_mean)))\n",
    "    suit = [False] * df.shape[0]\n",
    "    for i in range(0, df.shape[0]):\n",
    "        if abs(df.iloc[i]['LON'] - x['LON']) <= dx and abs(df.iloc[i]['LAT'] - x['LAT'] <= dy):\n",
    "            if distance(x['COORDINATE'], df.iloc[i]['COORDINATE']).km < R and (x['DATE'] - df.iloc[i]['DATE']) < timedelta(days = T):\n",
    "                suit[i] = True\n",
    "    n = suit.count(True)\n",
    "    density = n / (np.pi * R ** 2 * T)\n",
    "    return density\n"
   ]
  },
  {
   "cell_type": "code",
   "execution_count": 114,
   "id": "3b7d063c",
   "metadata": {},
   "outputs": [],
   "source": [
    "def mean_mag(x, df, R = 200, T = 700):\n",
    "    dy = (R * 360) / (2 * np.pi * R_earth)\n",
    "    dx = (R * 360) / (2 * np.pi * R_earth * np.cos(np.deg2rad(y_mean)))\n",
    "    suit = [False] * df.shape[0]\n",
    "    for i in range(0, df.shape[0]):\n",
    "        if abs(df.iloc[i]['LON'] - x['LON']) <= dx and abs(df.iloc[i]['LAT'] - x['LAT'] <= dy):\n",
    "            if distance(x['COORDINATE'], df.iloc[i]['COORDINATE']).km < R and (x['DATE'] - df.iloc[i]['DATE']) < timedelta(days = T):\n",
    "                suit[i] = True\n",
    "    res = suit * df['MAG']\n",
    "    a = res.to_list()\n",
    "    m = res.sum() / (len(a) - a.count(0))\n",
    "    return m"
   ]
  },
  {
   "cell_type": "code",
   "execution_count": 117,
   "id": "65a34081",
   "metadata": {},
   "outputs": [
    {
     "name": "stdout",
     "output_type": "stream",
     "text": [
      "CPU times: user 1h 51min 59s, sys: 28.5 s, total: 1h 52min 28s\n",
      "Wall time: 1h 52min 28s\n"
     ]
    }
   ],
   "source": [
    "%%time\n",
    "df['DENSITY'] = df.apply(lambda x: density(x, df), axis = 1)"
   ]
  },
  {
   "cell_type": "code",
   "execution_count": 118,
   "id": "a2a2f129",
   "metadata": {},
   "outputs": [
    {
     "name": "stdout",
     "output_type": "stream",
     "text": [
      "CPU times: user 2h 37min 39s, sys: 911 ms, total: 2h 37min 40s\n",
      "Wall time: 2h 37min 41s\n"
     ]
    }
   ],
   "source": [
    "%%time\n",
    "df['MEAN MAG'] = df.apply(lambda x: mean_mag(x, df), axis = 1)"
   ]
  },
  {
   "cell_type": "markdown",
   "id": "119e1ab7",
   "metadata": {},
   "source": [
    "Считалось долго, поэтому сохраним эту таблицу на всякий пожарный"
   ]
  },
  {
   "cell_type": "code",
   "execution_count": 119,
   "id": "42e68ab5",
   "metadata": {},
   "outputs": [],
   "source": [
    "df.to_csv('data_edit_1.csv', index=False)"
   ]
  },
  {
   "cell_type": "markdown",
   "id": "7bde5a28",
   "metadata": {},
   "source": [
    "### 4. Конвертер"
   ]
  },
  {
   "cell_type": "markdown",
   "id": "f5c9d137",
   "metadata": {},
   "source": [
    "Будем записывать в первой строке границы прямоугольника: $x_{st}$, $x_{en}$, $y_{st}$, $y_{en}$.\n",
    "\n",
    "Также начало временного промежутка $T_{st}$"
   ]
  },
  {
   "cell_type": "code",
   "execution_count": 14,
   "id": "5bec1bb7",
   "metadata": {},
   "outputs": [],
   "source": [
    "import os"
   ]
  },
  {
   "cell_type": "code",
   "execution_count": 10,
   "id": "ed3b0a5a",
   "metadata": {},
   "outputs": [],
   "source": [
    "df = pd.read_csv('data_edit_1.csv')"
   ]
  },
  {
   "cell_type": "code",
   "execution_count": 11,
   "id": "39e930c8",
   "metadata": {},
   "outputs": [],
   "source": [
    "df['DATE'] = df.apply(lambda x: date(int(x['DATE'][:4]), int(x['DATE'][5:7]), int(x['DATE'][8:10])), axis=1) "
   ]
  },
  {
   "cell_type": "code",
   "execution_count": 33,
   "id": "f7565f9f",
   "metadata": {},
   "outputs": [],
   "source": [
    "if os.path.exists(\"density\") == False:\n",
    "    os.mkdir(\"density\")"
   ]
  },
  {
   "cell_type": "code",
   "execution_count": 34,
   "id": "713e5580",
   "metadata": {},
   "outputs": [],
   "source": [
    "initial_path = os.getcwd()\n",
    "density_path = initial_path + '/density'"
   ]
  },
  {
   "cell_type": "code",
   "execution_count": 35,
   "id": "5901106d",
   "metadata": {},
   "outputs": [],
   "source": [
    "os.chdir(\"density\")"
   ]
  },
  {
   "cell_type": "code",
   "execution_count": 36,
   "id": "f6611585",
   "metadata": {},
   "outputs": [],
   "source": [
    "f = open('density.txt', 'w')"
   ]
  },
  {
   "cell_type": "code",
   "execution_count": 37,
   "id": "1f2a2469",
   "metadata": {},
   "outputs": [],
   "source": [
    "if os.path.exists(\"data\") == False:\n",
    "    os.mkdir(\"data\")"
   ]
  },
  {
   "cell_type": "code",
   "execution_count": 38,
   "id": "46ce134d",
   "metadata": {},
   "outputs": [
    {
     "data": {
      "text/plain": [
       "'/home/alina/Рабочий стол/iitp intern/density'"
      ]
     },
     "execution_count": 38,
     "metadata": {},
     "output_type": "execute_result"
    }
   ],
   "source": [
    "os.getcwd()"
   ]
  },
  {
   "cell_type": "code",
   "execution_count": 39,
   "id": "d5a66324",
   "metadata": {},
   "outputs": [
    {
     "name": "stdout",
     "output_type": "stream",
     "text": [
      "CPU times: user 236 ms, sys: 7.92 ms, total: 244 ms\n",
      "Wall time: 244 ms\n"
     ]
    }
   ],
   "source": [
    "%%time\n",
    "\n",
    "t = start_time\n",
    "i = 1\n",
    "T = 365\n",
    "first_line = str(xst) + ' ' + str(xen) + ' ' + str(yst) + ' ' + str(yen)\n",
    "\n",
    "while t < end_time:\n",
    "    file_name = 'density' + str(i) + '.txt'\n",
    "    f.write(file_name + '\\n')\n",
    "    \n",
    "    os.chdir(\"data\")\n",
    "    f_t = open(file_name, 'w')\n",
    "    f_t.write(first_line + ' ' + str(t) + '\\n')\n",
    "    \n",
    "    t = t + timedelta(days = T)\n",
    "    df_t = df[(df['DATE'] < t) & (df['DATE'] >= (t - timedelta(days = T)))]\n",
    "    x = xst\n",
    "    while x < xen:\n",
    "        f_t.write(str(x) + ' ')\n",
    "        df_t_x = df_t[(df_t['LON'] < (x + 1)) & (df_t['LON'] >= x)].sort_values(by='LAT')\n",
    "        if df_t_x.empty:\n",
    "            a = ' '\n",
    "        else:\n",
    "            a = df_t_x['DENSITY'].to_string(index=False).replace('\\n', ' ')\n",
    "        f_t.write(a + '\\n')\n",
    "        x += 1\n",
    "    f_t.close()\n",
    "    os.chdir(density_path)\n",
    "    i += 1"
   ]
  },
  {
   "cell_type": "code",
   "execution_count": 40,
   "id": "9735ffe9",
   "metadata": {},
   "outputs": [],
   "source": [
    "os.chdir(initial_path)\n",
    "f.close()"
   ]
  }
 ],
 "metadata": {
  "kernelspec": {
   "display_name": "Python 3 (ipykernel)",
   "language": "python",
   "name": "python3"
  },
  "language_info": {
   "codemirror_mode": {
    "name": "ipython",
    "version": 3
   },
   "file_extension": ".py",
   "mimetype": "text/x-python",
   "name": "python",
   "nbconvert_exporter": "python",
   "pygments_lexer": "ipython3",
   "version": "3.8.10"
  }
 },
 "nbformat": 4,
 "nbformat_minor": 5
}
