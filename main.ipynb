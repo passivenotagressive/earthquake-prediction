{
 "cells": [
  {
   "cell_type": "markdown",
   "id": "3a950b93",
   "metadata": {},
   "source": [
    "### 1. Загрузка данных "
   ]
  },
  {
   "cell_type": "code",
   "execution_count": 87,
   "id": "fb41573f",
   "metadata": {},
   "outputs": [],
   "source": [
    "import pandas as pd\n",
    "from datetime import date, timedelta \n",
    "import urllib.request\n",
    "from io import open\n",
    "from io import StringIO\n",
    "from geopy.distance import distance, geodesic\n",
    "import numpy as np\n",
    "import time"
   ]
  },
  {
   "cell_type": "markdown",
   "id": "29afb677",
   "metadata": {},
   "source": [
    "Чтобы не было путаницы в источниках магнитуд возьмем данные NIED (Япония все-таки)"
   ]
  },
  {
   "cell_type": "code",
   "execution_count": 3,
   "id": "c790dc13",
   "metadata": {},
   "outputs": [],
   "source": [
    "yst = \"27.5\"\n",
    "yen = \"42.5\"\n",
    "xst = \"130\"\n",
    "xen = \"144\"\n",
    "author = \"JMA\"\n",
    "type_ = \"Any\"\n",
    "start_time = date(1995, 1, 1)\n",
    "end_time = date(1995, 4, 1)"
   ]
  },
  {
   "cell_type": "markdown",
   "id": "1a45afdf",
   "metadata": {},
   "source": [
    "В качестве обучающей и валидационной выборки будем брать период с 1995 по 2005"
   ]
  },
  {
   "cell_type": "code",
   "execution_count": 4,
   "id": "1cb0f6af",
   "metadata": {},
   "outputs": [],
   "source": [
    "url = \"http://isc-mirror.iris.washington.edu/cgi-bin/web-db-v4?request=COMPREHENSIVE&out_format=CATCSV&searchshape=RECT&bot_lat=\" + yst + \"&top_lat=\" + yen + \"&left_lon=\" + xst + \"&right_lon=\" + xen + \"&ctr_lat=&ctr_lon=&radius=&max_dist_units=deg&srn=&grn=&start_year=\" + str(start_time.year) + \"&start_month=\" + str(start_time.month) + \"&start_day=\" + str(start_time.day) + \"&start_time=00%3A00%3A00&end_year=\" + str(end_time.year) + \"&end_month=\" + str(end_time.month) + \"&end_day=\" + str(end_time.day) + \"&end_time=00%3A00%3A00&min_dep=&max_dep=&null_dep=on&min_mag=\" + \"&max_mag=&req_mag_type=\" + type_ + \"&req_mag_agcy=\" + author"
   ]
  },
  {
   "cell_type": "code",
   "execution_count": 5,
   "id": "4b5d224c",
   "metadata": {},
   "outputs": [
    {
     "name": "stdout",
     "output_type": "stream",
     "text": [
      "http://isc-mirror.iris.washington.edu/cgi-bin/web-db-v4?request=COMPREHENSIVE&out_format=CATCSV&searchshape=RECT&bot_lat=27.5&top_lat=42.5&left_lon=130&right_lon=144&ctr_lat=&ctr_lon=&radius=&max_dist_units=deg&srn=&grn=&start_year=1995&start_month=1&start_day=1&start_time=00%3A00%3A00&end_year=1995&end_month=4&end_day=1&end_time=00%3A00%3A00&min_dep=&max_dep=&null_dep=on&min_mag=&max_mag=&req_mag_type=Any&req_mag_agcy=JMA\n"
     ]
    }
   ],
   "source": [
    "print(url)"
   ]
  },
  {
   "cell_type": "code",
   "execution_count": 6,
   "id": "787e9dd7",
   "metadata": {},
   "outputs": [
    {
     "name": "stdout",
     "output_type": "stream",
     "text": [
      "CPU times: user 328 ms, sys: 246 ms, total: 573 ms\n",
      "Wall time: 12.5 s\n"
     ]
    }
   ],
   "source": [
    "%%time\n",
    "\n",
    "csv = urllib.request.urlopen(url).read().decode(\"utf-8\") \n",
    "while csv.find(\"Please try again in a few minutes.\") != -1:\n",
    "    time.sleep(10)\n",
    "    csv = urllib.request.urlopen(url).read().decode(\"utf-8\") "
   ]
  },
  {
   "cell_type": "code",
   "execution_count": 7,
   "id": "dad9146f",
   "metadata": {},
   "outputs": [],
   "source": [
    "start = csv.find('...')\n",
    "end = csv.find('STOP', start)\n",
    "csv = csv[start + 5:end]\n",
    "df = pd.read_csv(StringIO(csv), delimiter=\",\",  on_bad_lines='skip', index_col=False)"
   ]
  },
  {
   "cell_type": "code",
   "execution_count": 8,
   "id": "c0833368",
   "metadata": {},
   "outputs": [
    {
     "data": {
      "text/html": [
       "<div>\n",
       "<style scoped>\n",
       "    .dataframe tbody tr th:only-of-type {\n",
       "        vertical-align: middle;\n",
       "    }\n",
       "\n",
       "    .dataframe tbody tr th {\n",
       "        vertical-align: top;\n",
       "    }\n",
       "\n",
       "    .dataframe thead th {\n",
       "        text-align: right;\n",
       "    }\n",
       "</style>\n",
       "<table border=\"1\" class=\"dataframe\">\n",
       "  <thead>\n",
       "    <tr style=\"text-align: right;\">\n",
       "      <th></th>\n",
       "      <th>EVENTID</th>\n",
       "      <th>TYPE</th>\n",
       "      <th>AUTHOR</th>\n",
       "      <th>DATE</th>\n",
       "      <th>TIME</th>\n",
       "      <th>LAT</th>\n",
       "      <th>LON</th>\n",
       "      <th>DEPTH</th>\n",
       "      <th>DEPFIX</th>\n",
       "      <th>AUTHOR   .1</th>\n",
       "      <th>TYPE</th>\n",
       "      <th>MAG</th>\n",
       "    </tr>\n",
       "  </thead>\n",
       "  <tbody>\n",
       "    <tr>\n",
       "      <th>2536</th>\n",
       "      <td>116144</td>\n",
       "      <td>ke</td>\n",
       "      <td>JMA</td>\n",
       "      <td>1995-03-31</td>\n",
       "      <td>18:42:48.80</td>\n",
       "      <td>42.43</td>\n",
       "      <td>143.7300</td>\n",
       "      <td>60.0</td>\n",
       "      <td></td>\n",
       "      <td>JMA</td>\n",
       "      <td>M</td>\n",
       "      <td>3.6</td>\n",
       "    </tr>\n",
       "    <tr>\n",
       "      <th>2537</th>\n",
       "      <td>116145</td>\n",
       "      <td>ke</td>\n",
       "      <td>JMA</td>\n",
       "      <td>1995-03-31</td>\n",
       "      <td>18:53:33.60</td>\n",
       "      <td>34.49</td>\n",
       "      <td>134.9500</td>\n",
       "      <td>9.0</td>\n",
       "      <td></td>\n",
       "      <td>JMA</td>\n",
       "      <td>M</td>\n",
       "      <td>2.8</td>\n",
       "    </tr>\n",
       "    <tr>\n",
       "      <th>2538</th>\n",
       "      <td>116156</td>\n",
       "      <td>ke</td>\n",
       "      <td>ISC</td>\n",
       "      <td>1995-03-31</td>\n",
       "      <td>20:39:37.03</td>\n",
       "      <td>37.06</td>\n",
       "      <td>141.3933</td>\n",
       "      <td>33.0</td>\n",
       "      <td>TRUE</td>\n",
       "      <td>JMA</td>\n",
       "      <td>M</td>\n",
       "      <td>3.8</td>\n",
       "    </tr>\n",
       "    <tr>\n",
       "      <th>2539</th>\n",
       "      <td>116161</td>\n",
       "      <td>ke</td>\n",
       "      <td>JMA</td>\n",
       "      <td>1995-03-31</td>\n",
       "      <td>21:20:35.10</td>\n",
       "      <td>42.26</td>\n",
       "      <td>138.9600</td>\n",
       "      <td>26.0</td>\n",
       "      <td></td>\n",
       "      <td>JMA</td>\n",
       "      <td>M</td>\n",
       "      <td>2.9</td>\n",
       "    </tr>\n",
       "    <tr>\n",
       "      <th>2540</th>\n",
       "      <td>116170</td>\n",
       "      <td>ke</td>\n",
       "      <td>JMA</td>\n",
       "      <td>1995-03-31</td>\n",
       "      <td>22:13:06</td>\n",
       "      <td>39.64</td>\n",
       "      <td>142.1300</td>\n",
       "      <td>50.0</td>\n",
       "      <td></td>\n",
       "      <td>JMA</td>\n",
       "      <td>M</td>\n",
       "      <td>3.1</td>\n",
       "    </tr>\n",
       "  </tbody>\n",
       "</table>\n",
       "</div>"
      ],
      "text/plain": [
       "       EVENTID  TYPE  AUTHOR     DATE        TIME         LAT       LON        \\\n",
       "2536    116144  ke    JMA        1995-03-31  18:42:48.80     42.43   143.7300   \n",
       "2537    116145  ke    JMA        1995-03-31  18:53:33.60     34.49   134.9500   \n",
       "2538    116156  ke    ISC        1995-03-31  20:39:37.03     37.06   141.3933   \n",
       "2539    116161  ke    JMA        1995-03-31  21:20:35.10     42.26   138.9600   \n",
       "2540    116170  ke    JMA        1995-03-31  22:13:06        39.64   142.1300   \n",
       "\n",
       "      DEPTH  DEPFIX AUTHOR   .1  TYPE    MAG   \n",
       "2536   60.0           JMA        M        3.6  \n",
       "2537    9.0           JMA        M        2.8  \n",
       "2538   33.0  TRUE     JMA        M        3.8  \n",
       "2539   26.0           JMA        M        2.9  \n",
       "2540   50.0           JMA        M        3.1  "
      ]
     },
     "execution_count": 8,
     "metadata": {},
     "output_type": "execute_result"
    }
   ],
   "source": [
    "df.tail()"
   ]
  },
  {
   "cell_type": "code",
   "execution_count": 9,
   "id": "de094ce3",
   "metadata": {},
   "outputs": [],
   "source": [
    "n = df.columns.size\n",
    "cols = dict()\n",
    "for i in range(0, n):\n",
    "    cols[df.columns[i]] = df.columns[i].replace(' ', '')\n",
    "df = df.rename(columns = cols)"
   ]
  },
  {
   "cell_type": "code",
   "execution_count": 10,
   "id": "862dafd2",
   "metadata": {},
   "outputs": [],
   "source": [
    "df_by_years = [df]"
   ]
  },
  {
   "cell_type": "code",
   "execution_count": 11,
   "id": "e745cddb",
   "metadata": {},
   "outputs": [
    {
     "name": "stdout",
     "output_type": "stream",
     "text": [
      "1995-4: 7.437 sec\n",
      "1995-7: 6.806 sec\n",
      "1995-10: 21.018 sec\n",
      "1996-1: 7.799 sec\n",
      "1996-4: 7.197 sec\n",
      "1996-7: 8.215 sec\n",
      "1996-10: 8.967 sec\n",
      "1997-1: 10.043 sec\n",
      "1997-4: 8.297 sec\n",
      "1997-7: 6.587 sec\n",
      "1997-10: 9.253 sec\n",
      "1998-1: 9.304 sec\n",
      "1998-4: 12.458 sec\n",
      "1998-7: 11.405 sec\n",
      "1998-10: 8.8 sec\n",
      "1999-1: 55.487 sec\n",
      "1999-4: 55.793 sec\n",
      "1999-7: 53.567 sec\n",
      "1999-10: 52.486 sec\n",
      "2000-1: 46.756 sec\n",
      "2000-4: 72.414 sec\n",
      "2000-7: 107.254 sec\n",
      "2000-10: 106.935 sec\n",
      "2001-1: 86.104 sec\n",
      "2001-4: 78.678 sec\n",
      "2001-7: 94.566 sec\n",
      "2001-10: 75.472 sec\n",
      "2002-1: 74.119 sec\n",
      "2002-4: 87.49 sec\n",
      "2002-7: 97.295 sec\n",
      "2002-10: 89.496 sec\n",
      "2003-1: 81.102 sec\n",
      "2003-4: 125.677 sec\n",
      "2003-7: 117.046 sec\n",
      "2003-10: 99.86 sec\n",
      "2004-1: 80.23 sec\n",
      "2004-4: 87.385 sec\n",
      "2004-7: 93.393 sec\n",
      "2004-10: 112.897 sec\n"
     ]
    }
   ],
   "source": [
    "year = 1995\n",
    "month = 4\n",
    "while year < 2005:\n",
    "    start_time = date(year, month, 1)\n",
    "    if month == 10:\n",
    "        end_time = date(year + 1, 1, 1)\n",
    "    else:\n",
    "        end_time = date(year, month + 3, 1)\n",
    "    url = \"http://isc-mirror.iris.washington.edu/cgi-bin/web-db-v4?request=COMPREHENSIVE&out_format=CATCSV&searchshape=RECT&bot_lat=\" + yst + \"&top_lat=\" + yen + \"&left_lon=\" + xst + \"&right_lon=\" + xen + \"&ctr_lat=&ctr_lon=&radius=&max_dist_units=deg&srn=&grn=&start_year=\" + str(start_time.year) + \"&start_month=\" + str(start_time.month) + \"&start_day=\" + str(start_time.day) + \"&start_time=00%3A00%3A00&end_year=\" + str(end_time.year) + \"&end_month=\" + str(end_time.month) + \"&end_day=\" + str(end_time.day) + \"&end_time=00%3A00%3A00&min_dep=&max_dep=&null_dep=on&min_mag=\" + \"&max_mag=&req_mag_type=\" + type_ + \"&req_mag_agcy=\" + author\n",
    "    \n",
    "    st = time.time()\n",
    "    csv = urllib.request.urlopen(url).read().decode(\"utf-8\") \n",
    "    while csv.find(\"Please try again in a few minutes.\") != -1:\n",
    "        time.sleep(5)\n",
    "        csv = urllib.request.urlopen(url).read().decode(\"utf-8\")\n",
    "    if csv.find(\"No events were found.\") == -1:\n",
    "        start = csv.find('...')\n",
    "        end = csv.find('STOP', start)\n",
    "        csv = csv[start + 5:end]\n",
    "        df_next = pd.read_csv(StringIO(csv), delimiter=\",\",  on_bad_lines='skip', index_col=False)\n",
    "        df_next = df_next.rename(columns = cols)\n",
    "        df_by_years.append(df_next)\n",
    "        df = pd.concat([df, df_next])\n",
    "    print(str(year) + '-' + str(month) + \": \" + str(round(time.time() - st, 3)) + \" sec\")\n",
    "    month = (month + 2) % 12 + 1\n",
    "    if month == 1:\n",
    "        year += 1"
   ]
  },
  {
   "cell_type": "code",
   "execution_count": 101,
   "id": "6de81634",
   "metadata": {},
   "outputs": [],
   "source": [
    "df.to_csv('raw_data.csv', index=False)"
   ]
  },
  {
   "cell_type": "markdown",
   "id": "0824d14d",
   "metadata": {},
   "source": [
    "### 2. Обработка данных"
   ]
  },
  {
   "cell_type": "code",
   "execution_count": 15,
   "id": "04f0441d",
   "metadata": {},
   "outputs": [],
   "source": [
    "import math\n",
    "import matplotlib.pyplot as plt"
   ]
  },
  {
   "cell_type": "code",
   "execution_count": 102,
   "id": "cc735cc2",
   "metadata": {},
   "outputs": [],
   "source": [
    "df = pd.read_csv('raw_data.csv')"
   ]
  },
  {
   "cell_type": "code",
   "execution_count": 109,
   "id": "3c079117",
   "metadata": {},
   "outputs": [],
   "source": [
    "df['DATE'] = df.apply(lambda x: date(int(x['DATE'][:4]), int(x['DATE'][5:7]), int(x['DATE'][8:10])), axis=1)"
   ]
  },
  {
   "cell_type": "markdown",
   "id": "b68ec13f",
   "metadata": {},
   "source": [
    "Выведем гистограммы магнитуды с точностью до целой части "
   ]
  },
  {
   "cell_type": "code",
   "execution_count": 35,
   "id": "b98afe71",
   "metadata": {},
   "outputs": [],
   "source": [
    "mx = math.ceil(df['MAG'].max())\n",
    "mn = int(df['MAG'].min())"
   ]
  },
  {
   "cell_type": "code",
   "execution_count": 36,
   "id": "09636227",
   "metadata": {
    "scrolled": true
   },
   "outputs": [
    {
     "data": {
      "image/png": "[encoded data removed]",
      "text/plain": [
       "<Figure size 432x288 with 1 Axes>"
      ]
     },
     "metadata": {
      "needs_background": "light"
     },
     "output_type": "display_data"
    }
   ],
   "source": [
    "plt.hist(df['MAG'], np.arange(mn, mx + 1, 1))\n",
    "plt.grid(True)\n",
    "plt.xlabel('Magnitude')\n",
    "plt.ylabel('#events')\n",
    "plt.show()"
   ]
  },
  {
   "cell_type": "markdown",
   "id": "f95a4d0a",
   "metadata": {},
   "source": [
    "И также точное количество"
   ]
  },
  {
   "cell_type": "code",
   "execution_count": 37,
   "id": "e99e7a8a",
   "metadata": {},
   "outputs": [
    {
     "name": "stdout",
     "output_type": "stream",
     "text": [
      "-1-0: 17\n",
      "0-1: 162403\n",
      "1-2: 219304\n",
      "2-3: 111430\n",
      "3-4: 38474\n",
      "4-5: 3700\n",
      "5-6: 448\n",
      "6-7: 68\n",
      "7-8: 9\n",
      "8-9: 1\n"
     ]
    }
   ],
   "source": [
    "for i in range(mn, mx + 1):\n",
    "    m = df[df['MAG'].astype('int') == i].count()[0]\n",
    "    print(str(i) + '-' + str(i + 1) + ': ' + str(m))"
   ]
  },
  {
   "cell_type": "markdown",
   "id": "4a2bc0e7",
   "metadata": {},
   "source": [
    "Выведем средние, максимальные и минимальные значения даты/долготы/широты/магнитуды\n"
   ]
  },
  {
   "cell_type": "code",
   "execution_count": 38,
   "id": "25c30a16",
   "metadata": {},
   "outputs": [],
   "source": [
    "statistics = df[['DATE', 'LAT', 'LON', 'MAG']].min().to_frame(name='min')\n",
    "statistics['max'] = df[['DATE', 'LAT', 'LON', 'MAG']].max()"
   ]
  },
  {
   "cell_type": "code",
   "execution_count": 39,
   "id": "60091522",
   "metadata": {},
   "outputs": [],
   "source": [
    "a = df[['LAT', 'LON', 'MAG']].mean()"
   ]
  },
  {
   "cell_type": "markdown",
   "id": "1c6742fc",
   "metadata": {},
   "source": [
    "Для подсчета средней даты переведем в юлианскую дату (эти функции я не от нечего делать писала - это я честно скопировала с чужого github'а)"
   ]
  },
  {
   "cell_type": "code",
   "execution_count": 40,
   "id": "bd68058b",
   "metadata": {},
   "outputs": [],
   "source": [
    "def date_to_jd(year,month,day):\n",
    "    if month == 1 or month == 2:\n",
    "        yearp = year - 1\n",
    "        monthp = month + 12\n",
    "    else:\n",
    "        yearp = year\n",
    "        monthp = month\n",
    "    if ((year < 1582) or\n",
    "        (year == 1582 and month < 10) or\n",
    "        (year == 1582 and month == 10 and day < 15)):\n",
    "        B = 0\n",
    "    else:\n",
    "        A = math.trunc(yearp / 100.)\n",
    "        B = 2 - A + math.trunc(A / 4.)\n",
    "    if yearp < 0:\n",
    "        C = math.trunc((365.25 * yearp) - 0.75)\n",
    "    else:\n",
    "        C = math.trunc(365.25 * yearp)\n",
    "    D = math.trunc(30.6001 * (monthp + 1))\n",
    "    jd = B + C + D + day + 1720994.5\n",
    "    return jd"
   ]
  },
  {
   "cell_type": "code",
   "execution_count": 41,
   "id": "d27b8765",
   "metadata": {},
   "outputs": [],
   "source": [
    "def jd_to_date(jd):\n",
    "    jd = jd + 0.5\n",
    "    F, I = math.modf(jd)\n",
    "    I = int(I)\n",
    "    A = math.trunc((I - 1867216.25)/36524.25)\n",
    "    if I > 2299160:\n",
    "        B = I + 1 + A - math.trunc(A / 4.)\n",
    "    else:\n",
    "        B = I   \n",
    "    C = B + 1524\n",
    "    D = math.trunc((C - 122.1) / 365.25)\n",
    "    E = math.trunc(365.25 * D)\n",
    "    G = math.trunc((C - E) / 30.6001)\n",
    "    day = C - E + F - math.trunc(30.6001 * G)\n",
    "    if G < 13.5:\n",
    "        month = G - 1\n",
    "    else:\n",
    "        month = G - 13\n",
    "        \n",
    "    if month > 2.5:\n",
    "        year = D - 4716\n",
    "    else:\n",
    "        year = D - 4715\n",
    "        \n",
    "    return date(int(year), int(month), int(day))"
   ]
  },
  {
   "cell_type": "code",
   "execution_count": 42,
   "id": "387fab10",
   "metadata": {},
   "outputs": [],
   "source": [
    "df['JD'] = df.apply(lambda x: date_to_jd(x['DATE'].year, x['DATE'].month, x['DATE'].day), axis=1)"
   ]
  },
  {
   "cell_type": "code",
   "execution_count": 43,
   "id": "85419b15",
   "metadata": {},
   "outputs": [],
   "source": [
    "mean_JD = df['JD'].mean()"
   ]
  },
  {
   "cell_type": "code",
   "execution_count": 44,
   "id": "8d1f2939",
   "metadata": {},
   "outputs": [],
   "source": [
    "a['DATE'] = jd_to_date(mean_JD)"
   ]
  },
  {
   "cell_type": "code",
   "execution_count": 45,
   "id": "784b0db9",
   "metadata": {},
   "outputs": [],
   "source": [
    "statistics['mean'] = a"
   ]
  },
  {
   "cell_type": "code",
   "execution_count": 46,
   "id": "b7376203",
   "metadata": {
    "scrolled": true
   },
   "outputs": [
    {
     "data": {
      "text/html": [
       "<div>\n",
       "<style scoped>\n",
       "    .dataframe tbody tr th:only-of-type {\n",
       "        vertical-align: middle;\n",
       "    }\n",
       "\n",
       "    .dataframe tbody tr th {\n",
       "        vertical-align: top;\n",
       "    }\n",
       "\n",
       "    .dataframe thead th {\n",
       "        text-align: right;\n",
       "    }\n",
       "</style>\n",
       "<table border=\"1\" class=\"dataframe\">\n",
       "  <thead>\n",
       "    <tr style=\"text-align: right;\">\n",
       "      <th></th>\n",
       "      <th>min</th>\n",
       "      <th>max</th>\n",
       "      <th>mean</th>\n",
       "    </tr>\n",
       "  </thead>\n",
       "  <tbody>\n",
       "    <tr>\n",
       "      <th>DATE</th>\n",
       "      <td>1995-01-01</td>\n",
       "      <td>2004-12-31</td>\n",
       "      <td>2001-12-31</td>\n",
       "    </tr>\n",
       "    <tr>\n",
       "      <th>LAT</th>\n",
       "      <td>27.5</td>\n",
       "      <td>42.5</td>\n",
       "      <td>35.385917</td>\n",
       "    </tr>\n",
       "    <tr>\n",
       "      <th>LON</th>\n",
       "      <td>130.0</td>\n",
       "      <td>144.0</td>\n",
       "      <td>136.821821</td>\n",
       "    </tr>\n",
       "    <tr>\n",
       "      <th>MAG</th>\n",
       "      <td>-1.3</td>\n",
       "      <td>8.0</td>\n",
       "      <td>1.499851</td>\n",
       "    </tr>\n",
       "  </tbody>\n",
       "</table>\n",
       "</div>"
      ],
      "text/plain": [
       "             min         max        mean\n",
       "DATE  1995-01-01  2004-12-31  2001-12-31\n",
       "LAT         27.5        42.5   35.385917\n",
       "LON        130.0       144.0  136.821821\n",
       "MAG         -1.3         8.0    1.499851"
      ]
     },
     "execution_count": 46,
     "metadata": {},
     "output_type": "execute_result"
    }
   ],
   "source": [
    "statistics"
   ]
  },
  {
   "cell_type": "markdown",
   "id": "cfadbb3d",
   "metadata": {},
   "source": [
    "### 3 Подсчет средней магнитуды и плотности землетрясений "
   ]
  },
  {
   "cell_type": "markdown",
   "id": "c39be2d2",
   "metadata": {},
   "source": [
    "Посчитаем расстояние $dx$ и $dy$ - расстояния по долготе и по широте соответсвующие $R$"
   ]
  },
  {
   "cell_type": "code",
   "execution_count": 110,
   "id": "a6eb013b",
   "metadata": {},
   "outputs": [],
   "source": [
    "df = pd.read_csv('raw_data.csv')"
   ]
  },
  {
   "cell_type": "code",
   "execution_count": 112,
   "id": "71bca1a3",
   "metadata": {},
   "outputs": [],
   "source": [
    "df['DATE'] = df.apply(lambda x: date(int(x['DATE'][:4]), int(x['DATE'][5:7]), int(x['DATE'][8:10])), axis=1)\n",
    "df['COORDINATE'] = df.apply(lambda x: (x['LAT'], x['LON']), axis = 1)"
   ]
  },
  {
   "cell_type": "code",
   "execution_count": 113,
   "id": "bbe9b452",
   "metadata": {},
   "outputs": [],
   "source": [
    "yen = float(yen)\n",
    "yst = float(yst)\n",
    "xen = float(xen)\n",
    "xst = float(xst)"
   ]
  },
  {
   "cell_type": "code",
   "execution_count": 114,
   "id": "5c234f42",
   "metadata": {},
   "outputs": [],
   "source": [
    "R_earth = 6371\n",
    "y_mean = (yst + yen) / 2"
   ]
  },
  {
   "cell_type": "markdown",
   "id": "e1f124b2",
   "metadata": {},
   "source": [
    "Плотность будет иметь размерность $\\frac{1}{\\text{км}^2 \\cdot \\text{дни}}$"
   ]
  },
  {
   "cell_type": "code",
   "execution_count": 123,
   "id": "a6f4654f",
   "metadata": {},
   "outputs": [],
   "source": [
    "x = df.iloc[50]"
   ]
  },
  {
   "cell_type": "code",
   "execution_count": 137,
   "id": "f32504e4",
   "metadata": {},
   "outputs": [],
   "source": [
    "def density(x, df, R = 100, T = 365):\n",
    "    dy = (R * 360) / (2 * np.pi * R_earth)\n",
    "    dx = (R * 360) / (2 * np.pi * R_earth * np.cos(np.deg2rad(y_mean)))\n",
    "    \n",
    "    suit = [False] * df.shape[0]\n",
    "    \n",
    "    start_date = x['DATE']\n",
    "    i = df[df['EVENTID'] == x['EVENTID']].index[0]\n",
    "    while i >= 0 and (x['DATE'] - df.iloc[i]['DATE']) < timedelta(days = T):\n",
    "        if abs(df.iloc[i]['LON'] - x['LON']) <= dx and abs(df.iloc[i]['LAT'] - x['LAT'] <= dy):\n",
    "            if geodesic(x['COORDINATE'], df.iloc[i]['COORDINATE']).km < R and (x['DATE'] - df.iloc[i]['DATE']) < timedelta(days = T):\n",
    "                suit[i] = True\n",
    "        i -= 1\n",
    "    \n",
    "    n = suit.count(True)\n",
    "    density = n / (np.pi * R ** 2 * T)\n",
    "    return density"
   ]
  },
  {
   "cell_type": "code",
   "execution_count": 50,
   "id": "3b7d063c",
   "metadata": {},
   "outputs": [],
   "source": [
    "def mean_mag(x, df, R = 200, T = 700):\n",
    "    dy = (R * 360) / (2 * np.pi * R_earth)\n",
    "    dx = (R * 360) / (2 * np.pi * R_earth * np.cos(np.deg2rad(y_mean)))\n",
    "    suit = [False] * df.shape[0]\n",
    "    for i in range(0, df.shape[0]):\n",
    "        if abs(df.iloc[i]['LON'] - x['LON']) <= dx and abs(df.iloc[i]['LAT'] - x['LAT'] <= dy):\n",
    "            if distance(x['COORDINATE'][, df.iloc[i]['COORDINATE']).km < R and (x['DATE'] - df.iloc[i]['DATE']) < timedelta(days = T):\n",
    "                suit[i] = True\n",
    "    res = suit * df['MAG']\n",
    "    a = res.to_list()\n",
    "    m = res.sum() / (len(a) - a.count(0))\n",
    "    return m"
   ]
  },
  {
   "cell_type": "markdown",
   "id": "930e63d4",
   "metadata": {},
   "source": [
    "Возьмем первую тысячу объектов, чтобы понять как долго будет считаться новый столбец"
   ]
  },
  {
   "cell_type": "code",
   "execution_count": 133,
   "id": "e1b063c9",
   "metadata": {},
   "outputs": [],
   "source": [
    "df_test = df[:1000].copy()"
   ]
  },
  {
   "cell_type": "code",
   "execution_count": 138,
   "id": "65a34081",
   "metadata": {},
   "outputs": [
    {
     "name": "stdout",
     "output_type": "stream",
     "text": [
      "CPU times: user 2min 46s, sys: 6.66 ms, total: 2min 46s\n",
      "Wall time: 2min 46s\n"
     ]
    }
   ],
   "source": [
    "%%time\n",
    "\n",
    "df_test['DENSITY'] = df_test.apply(lambda x: density(x, df_test), axis = 1)"
   ]
  },
  {
   "cell_type": "markdown",
   "id": "62fa5b9d",
   "metadata": {},
   "source": [
    "Вся таблица таким темпом должна посчитаться за 22 часа"
   ]
  },
  {
   "cell_type": "code",
   "execution_count": null,
   "id": "fb522226",
   "metadata": {},
   "outputs": [],
   "source": []
  },
  {
   "cell_type": "code",
   "execution_count": 118,
   "id": "a2a2f129",
   "metadata": {},
   "outputs": [
    {
     "name": "stdout",
     "output_type": "stream",
     "text": [
      "CPU times: user 2h 37min 39s, sys: 911 ms, total: 2h 37min 40s\n",
      "Wall time: 2h 37min 41s\n"
     ]
    }
   ],
   "source": [
    "%%time\n",
    "df_test['MEAN MAG'] = df.apply(lambda x: mean_mag(x, df), axis = 1)"
   ]
  },
  {
   "cell_type": "markdown",
   "id": "119e1ab7",
   "metadata": {},
   "source": [
    "Считалось долго, поэтому сохраним эту таблицу на всякий пожарный"
   ]
  },
  {
   "cell_type": "code",
   "execution_count": 119,
   "id": "42e68ab5",
   "metadata": {},
   "outputs": [],
   "source": [
    "df.to_csv('data_edit_1.csv', index=False)"
   ]
  },
  {
   "cell_type": "markdown",
   "id": "e9a41856",
   "metadata": {},
   "source": [
    "### 4. Конвертер"
   ]
  },
  {
   "cell_type": "markdown",
   "id": "e3835898",
   "metadata": {},
   "source": [
    "Будем записывать в первой строке границы прямоугольника: $x_{st}$, $x_{en}$, $y_{st}$, $y_{en}$.\n",
    "\n",
    "Также начало временного промежутка $T_{st}$"
   ]
  },
  {
   "cell_type": "code",
   "execution_count": 14,
   "id": "08a029a3",
   "metadata": {},
   "outputs": [],
   "source": [
    "import os"
   ]
  },
  {
   "cell_type": "code",
   "execution_count": 44,
   "id": "21d513ba",
   "metadata": {},
   "outputs": [],
   "source": [
    "df = pd.read_csv('data_edit_1.csv')"
   ]
  },
  {
   "cell_type": "code",
   "execution_count": 45,
   "id": "98a2621c",
   "metadata": {},
   "outputs": [
    {
     "data": {
      "text/html": [
       "<div>\n",
       "<style scoped>\n",
       "    .dataframe tbody tr th:only-of-type {\n",
       "        vertical-align: middle;\n",
       "    }\n",
       "\n",
       "    .dataframe tbody tr th {\n",
       "        vertical-align: top;\n",
       "    }\n",
       "\n",
       "    .dataframe thead th {\n",
       "        text-align: right;\n",
       "    }\n",
       "</style>\n",
       "<table border=\"1\" class=\"dataframe\">\n",
       "  <thead>\n",
       "    <tr style=\"text-align: right;\">\n",
       "      <th></th>\n",
       "      <th>EVENTID</th>\n",
       "      <th>TYPE</th>\n",
       "      <th>AUTHOR</th>\n",
       "      <th>DATE</th>\n",
       "      <th>TIME</th>\n",
       "      <th>LAT</th>\n",
       "      <th>LON</th>\n",
       "      <th>DEPTH</th>\n",
       "      <th>DEPFIX</th>\n",
       "      <th>AUTHOR MAG</th>\n",
       "      <th>TYPE MAG</th>\n",
       "      <th>MAG</th>\n",
       "      <th>COORDINATE</th>\n",
       "      <th>JD</th>\n",
       "      <th>DENSITY</th>\n",
       "      <th>MEAN MAG</th>\n",
       "    </tr>\n",
       "  </thead>\n",
       "  <tbody>\n",
       "    <tr>\n",
       "      <th>0</th>\n",
       "      <td>1004915</td>\n",
       "      <td>ke</td>\n",
       "      <td>ISC</td>\n",
       "      <td>1997-01-04</td>\n",
       "      <td>12:31:52.00</td>\n",
       "      <td>33.8238</td>\n",
       "      <td>131.1687</td>\n",
       "      <td>13.7</td>\n",
       "      <td></td>\n",
       "      <td>NIED</td>\n",
       "      <td>Mw</td>\n",
       "      <td>3.8</td>\n",
       "      <td>(33.8238, 131.1687)</td>\n",
       "      <td>2450452.5</td>\n",
       "      <td>0.000003</td>\n",
       "      <td>3.881407</td>\n",
       "    </tr>\n",
       "    <tr>\n",
       "      <th>1</th>\n",
       "      <td>1005850</td>\n",
       "      <td>ke</td>\n",
       "      <td>ISC</td>\n",
       "      <td>1997-01-11</td>\n",
       "      <td>05:50:23.79</td>\n",
       "      <td>31.5974</td>\n",
       "      <td>131.7461</td>\n",
       "      <td>40.0</td>\n",
       "      <td></td>\n",
       "      <td>NIED</td>\n",
       "      <td>Mw</td>\n",
       "      <td>5.4</td>\n",
       "      <td>(31.5974, 131.7461)</td>\n",
       "      <td>2450459.5</td>\n",
       "      <td>0.000013</td>\n",
       "      <td>4.118780</td>\n",
       "    </tr>\n",
       "    <tr>\n",
       "      <th>2</th>\n",
       "      <td>1006351</td>\n",
       "      <td>ke</td>\n",
       "      <td>ISC</td>\n",
       "      <td>1997-01-14</td>\n",
       "      <td>08:48:35.66</td>\n",
       "      <td>33.2363</td>\n",
       "      <td>132.3621</td>\n",
       "      <td>7.9</td>\n",
       "      <td></td>\n",
       "      <td>NIED</td>\n",
       "      <td>Mw</td>\n",
       "      <td>3.5</td>\n",
       "      <td>(33.2363, 132.3621)</td>\n",
       "      <td>2450462.5</td>\n",
       "      <td>0.000010</td>\n",
       "      <td>3.925784</td>\n",
       "    </tr>\n",
       "    <tr>\n",
       "      <th>3</th>\n",
       "      <td>1006386</td>\n",
       "      <td>ke</td>\n",
       "      <td>ISC</td>\n",
       "      <td>1997-01-14</td>\n",
       "      <td>14:46:53.62</td>\n",
       "      <td>30.5042</td>\n",
       "      <td>131.5143</td>\n",
       "      <td>34.4</td>\n",
       "      <td></td>\n",
       "      <td>NIED</td>\n",
       "      <td>Mw</td>\n",
       "      <td>4.5</td>\n",
       "      <td>(30.5042, 131.5143)</td>\n",
       "      <td>2450462.5</td>\n",
       "      <td>0.000013</td>\n",
       "      <td>4.242417</td>\n",
       "    </tr>\n",
       "    <tr>\n",
       "      <th>4</th>\n",
       "      <td>1006639</td>\n",
       "      <td>ke</td>\n",
       "      <td>ISC</td>\n",
       "      <td>1997-01-16</td>\n",
       "      <td>06:10:37.40</td>\n",
       "      <td>31.7345</td>\n",
       "      <td>131.7291</td>\n",
       "      <td>33.8</td>\n",
       "      <td></td>\n",
       "      <td>NIED</td>\n",
       "      <td>Mw</td>\n",
       "      <td>3.9</td>\n",
       "      <td>(31.7345, 131.7291)</td>\n",
       "      <td>2450464.5</td>\n",
       "      <td>0.000013</td>\n",
       "      <td>4.103390</td>\n",
       "    </tr>\n",
       "  </tbody>\n",
       "</table>\n",
       "</div>"
      ],
      "text/plain": [
       "   EVENTID  TYPE     AUTHOR        DATE         TIME      LAT       LON  \\\n",
       "0  1004915  ke    ISC        1997-01-04  12:31:52.00  33.8238  131.1687   \n",
       "1  1005850  ke    ISC        1997-01-11  05:50:23.79  31.5974  131.7461   \n",
       "2  1006351  ke    ISC        1997-01-14  08:48:35.66  33.2363  132.3621   \n",
       "3  1006386  ke    ISC        1997-01-14  14:46:53.62  30.5042  131.5143   \n",
       "4  1006639  ke    ISC        1997-01-16  06:10:37.40  31.7345  131.7291   \n",
       "\n",
       "   DEPTH  DEPFIX AUTHOR MAG TYPE MAG  MAG           COORDINATE         JD  \\\n",
       "0   13.7          NIED        Mw      3.8  (33.8238, 131.1687)  2450452.5   \n",
       "1   40.0          NIED        Mw      5.4  (31.5974, 131.7461)  2450459.5   \n",
       "2    7.9          NIED        Mw      3.5  (33.2363, 132.3621)  2450462.5   \n",
       "3   34.4          NIED        Mw      4.5  (30.5042, 131.5143)  2450462.5   \n",
       "4   33.8          NIED        Mw      3.9  (31.7345, 131.7291)  2450464.5   \n",
       "\n",
       "    DENSITY  MEAN MAG  \n",
       "0  0.000003  3.881407  \n",
       "1  0.000013  4.118780  \n",
       "2  0.000010  3.925784  \n",
       "3  0.000013  4.242417  \n",
       "4  0.000013  4.103390  "
      ]
     },
     "execution_count": 45,
     "metadata": {},
     "output_type": "execute_result"
    }
   ],
   "source": [
    "df.head()"
   ]
  },
  {
   "cell_type": "code",
   "execution_count": 11,
   "id": "6261f53a",
   "metadata": {},
   "outputs": [],
   "source": [
    "df['DATE'] = df.apply(lambda x: date(int(x['DATE'][:4]), int(x['DATE'][5:7]), int(x['DATE'][8:10])), axis=1) "
   ]
  },
  {
   "cell_type": "code",
   "execution_count": 33,
   "id": "d097ff4f",
   "metadata": {},
   "outputs": [],
   "source": [
    "if os.path.exists(\"density\") == False:\n",
    "    os.mkdir(\"density\")"
   ]
  },
  {
   "cell_type": "code",
   "execution_count": 34,
   "id": "27a9b5ec",
   "metadata": {},
   "outputs": [],
   "source": [
    "initial_path = os.getcwd()\n",
    "density_path = initial_path + '/density'"
   ]
  },
  {
   "cell_type": "code",
   "execution_count": 35,
   "id": "dbe73113",
   "metadata": {},
   "outputs": [],
   "source": [
    "os.chdir(\"density\")"
   ]
  },
  {
   "cell_type": "code",
   "execution_count": 36,
   "id": "bd0cbcc0",
   "metadata": {},
   "outputs": [],
   "source": [
    "f = open('density.txt', 'w')"
   ]
  },
  {
   "cell_type": "code",
   "execution_count": 37,
   "id": "24fa8cb7",
   "metadata": {},
   "outputs": [],
   "source": [
    "if os.path.exists(\"data\") == False:\n",
    "    os.mkdir(\"data\")"
   ]
  },
  {
   "cell_type": "code",
   "execution_count": 38,
   "id": "c0907905",
   "metadata": {},
   "outputs": [
    {
     "data": {
      "text/plain": [
       "'/home/alina/Рабочий стол/iitp intern/density'"
      ]
     },
     "execution_count": 38,
     "metadata": {},
     "output_type": "execute_result"
    }
   ],
   "source": [
    "os.getcwd()"
   ]
  },
  {
   "cell_type": "code",
   "execution_count": 39,
   "id": "77994f68",
   "metadata": {},
   "outputs": [
    {
     "name": "stdout",
     "output_type": "stream",
     "text": [
      "CPU times: user 236 ms, sys: 7.92 ms, total: 244 ms\n",
      "Wall time: 244 ms\n"
     ]
    }
   ],
   "source": [
    "%%time\n",
    "\n",
    "t = start_time\n",
    "i = 1\n",
    "T = 365\n",
    "first_line = str(xst) + ' ' + str(xen) + ' ' + str(yst) + ' ' + str(yen)\n",
    "\n",
    "while t < end_time:\n",
    "    file_name = 'density' + str(i) + '.txt'\n",
    "    f.write(file_name + '\\n')\n",
    "    \n",
    "    os.chdir(\"data\")\n",
    "    f_t = open(file_name, 'w')\n",
    "    f_t.write(first_line + ' ' + str(t) + '\\n')\n",
    "    \n",
    "    t = t + timedelta(days = T)\n",
    "    df_t = df[(df['DATE'] < t) & (df['DATE'] >= (t - timedelta(days = T)))]\n",
    "    x = xst\n",
    "    while x < xen:\n",
    "        f_t.write(str(x) + ' ')\n",
    "        df_t_x = df_t[(df_t['LON'] < (x + 1)) & (df_t['LON'] >= x)].sort_values(by='LAT')\n",
    "        if df_t_x.empty:\n",
    "            a = ' '\n",
    "        else:\n",
    "            a = df_t_x['DENSITY'].to_string(index=False).replace('\\n', ' ')\n",
    "        f_t.write(a + '\\n')\n",
    "        x += 1\n",
    "    f_t.close()\n",
    "    os.chdir(density_path)\n",
    "    i += 1"
   ]
  },
  {
   "cell_type": "code",
   "execution_count": 40,
   "id": "e4ad1510",
   "metadata": {},
   "outputs": [],
   "source": [
    "os.chdir(initial_path)\n",
    "f.close()"
   ]
  },
  {
   "cell_type": "markdown",
   "id": "19fd67c0",
   "metadata": {},
   "source": [
    "Теперь то же самое со средней магнитудой"
   ]
  },
  {
   "cell_type": "code",
   "execution_count": 41,
   "id": "0912c6ae",
   "metadata": {},
   "outputs": [],
   "source": [
    "if os.path.exists(\"mean magnitude\") == False:\n",
    "    os.mkdir(\"mean magnitude\")"
   ]
  },
  {
   "cell_type": "code",
   "execution_count": 42,
   "id": "81e23352",
   "metadata": {},
   "outputs": [],
   "source": [
    "initial_path = os.getcwd()\n",
    "density_path = initial_path + '/mean magnitude'"
   ]
  },
  {
   "cell_type": "code",
   "execution_count": 43,
   "id": "9c4ee062",
   "metadata": {},
   "outputs": [],
   "source": [
    "os.chdir(\"mean magnitude\")"
   ]
  },
  {
   "cell_type": "code",
   "execution_count": 44,
   "id": "f9522365",
   "metadata": {},
   "outputs": [],
   "source": [
    "f = open('mean magnitude.txt', 'w')"
   ]
  },
  {
   "cell_type": "code",
   "execution_count": 45,
   "id": "a733f03a",
   "metadata": {},
   "outputs": [],
   "source": [
    "if os.path.exists(\"data\") == False:\n",
    "    os.mkdir(\"data\")"
   ]
  },
  {
   "cell_type": "code",
   "execution_count": 46,
   "id": "d51b0d27",
   "metadata": {},
   "outputs": [
    {
     "name": "stdout",
     "output_type": "stream",
     "text": [
      "CPU times: user 184 ms, sys: 0 ns, total: 184 ms\n",
      "Wall time: 182 ms\n"
     ]
    }
   ],
   "source": [
    "%%time\n",
    "\n",
    "t = start_time\n",
    "i = 1\n",
    "T = 700\n",
    "first_line = str(xst) + ' ' + str(xen) + ' ' + str(yst) + ' ' + str(yen)\n",
    "\n",
    "while t < end_time:\n",
    "    file_name = 'mean magnitude' + str(i) + '.txt'\n",
    "    f.write(file_name + '\\n')\n",
    "    \n",
    "    os.chdir(\"data\")\n",
    "    f_t = open(file_name, 'w')\n",
    "    f_t.write(first_line + ' ' + str(t) + '\\n')\n",
    "    \n",
    "    t = t + timedelta(days = T)\n",
    "    df_t = df[(df['DATE'] < t) & (df['DATE'] >= (t - timedelta(days = T)))]\n",
    "    x = xst\n",
    "    while x < xen:\n",
    "        f_t.write(str(x) + ' ')\n",
    "        df_t_x = df_t[(df_t['LON'] < (x + 1)) & (df_t['LON'] >= x)].sort_values(by='LAT')\n",
    "        if df_t_x.empty:\n",
    "            a = ' '\n",
    "        else:\n",
    "            a = df_t_x['MEAN MAG'].to_string(index=False).replace('\\n', ' ')\n",
    "        f_t.write(a + '\\n')\n",
    "        x += 1\n",
    "    f_t.close()\n",
    "    os.chdir(density_path)\n",
    "    i += 1"
   ]
  },
  {
   "cell_type": "code",
   "execution_count": null,
   "id": "66fcca9a",
   "metadata": {},
   "outputs": [],
   "source": []
  }
 ],
 "metadata": {
  "kernelspec": {
   "display_name": "Python 3 (ipykernel)",
   "language": "python",
   "name": "python3"
  },
  "language_info": {
   "codemirror_mode": {
    "name": "ipython",
    "version": 3
   },
   "file_extension": ".py",
   "mimetype": "text/x-python",
   "name": "python",
   "nbconvert_exporter": "python",
   "pygments_lexer": "ipython3",
   "version": "3.8.10"
  }
 },
 "nbformat": 4,
 "nbformat_minor": 5
}
