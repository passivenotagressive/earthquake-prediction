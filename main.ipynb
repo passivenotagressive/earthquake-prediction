{
 "cells": [
  {
   "cell_type": "markdown",
   "id": "3a950b93",
   "metadata": {},
   "source": [
    "### 1. Загрузка данных "
   ]
  },
  {
   "cell_type": "code",
   "execution_count": 2,
   "id": "fb41573f",
   "metadata": {},
   "outputs": [],
   "source": [
    "import pandas as pd\n",
    "from datetime import date, timedelta \n",
    "import urllib.request\n",
    "from io import open\n",
    "from io import StringIO\n",
    "from geopy.distance import distance\n",
    "import numpy as np"
   ]
  },
  {
   "cell_type": "markdown",
   "id": "29afb677",
   "metadata": {},
   "source": [
    "Чтобы не было путаницы в источниках магнитуд возьмем данные NIED (Япония все-таки)"
   ]
  },
  {
   "cell_type": "code",
   "execution_count": 3,
   "id": "c790dc13",
   "metadata": {},
   "outputs": [],
   "source": [
    "yst = \"27.5\"\n",
    "yen = \"42.5\"\n",
    "xst = \"130\"\n",
    "xen = \"144\"\n",
    "author = \"NIED\"\n",
    "type_ = \"Any\"\n",
    "start_time = date(1995, 1, 1)\n",
    "end_time = date(2005, 1, 1)"
   ]
  },
  {
   "cell_type": "code",
   "execution_count": 4,
   "id": "1cb0f6af",
   "metadata": {},
   "outputs": [
    {
     "ename": "URLError",
     "evalue": "<urlopen error [Errno -3] Temporary failure in name resolution>",
     "output_type": "error",
     "traceback": [
      "\u001b[0;31m---------------------------------------------------------------------------\u001b[0m",
      "\u001b[0;31mgaierror\u001b[0m                                  Traceback (most recent call last)",
      "\u001b[0;32m/usr/lib/python3.8/urllib/request.py\u001b[0m in \u001b[0;36mdo_open\u001b[0;34m(self, http_class, req, **http_conn_args)\u001b[0m\n\u001b[1;32m   1353\u001b[0m             \u001b[0;32mtry\u001b[0m\u001b[0;34m:\u001b[0m\u001b[0;34m\u001b[0m\u001b[0;34m\u001b[0m\u001b[0m\n\u001b[0;32m-> 1354\u001b[0;31m                 h.request(req.get_method(), req.selector, req.data, headers,\n\u001b[0m\u001b[1;32m   1355\u001b[0m                           encode_chunked=req.has_header('Transfer-encoding'))\n",
      "\u001b[0;32m/usr/lib/python3.8/http/client.py\u001b[0m in \u001b[0;36mrequest\u001b[0;34m(self, method, url, body, headers, encode_chunked)\u001b[0m\n\u001b[1;32m   1255\u001b[0m         \u001b[0;34m\"\"\"Send a complete request to the server.\"\"\"\u001b[0m\u001b[0;34m\u001b[0m\u001b[0;34m\u001b[0m\u001b[0m\n\u001b[0;32m-> 1256\u001b[0;31m         \u001b[0mself\u001b[0m\u001b[0;34m.\u001b[0m\u001b[0m_send_request\u001b[0m\u001b[0;34m(\u001b[0m\u001b[0mmethod\u001b[0m\u001b[0;34m,\u001b[0m \u001b[0murl\u001b[0m\u001b[0;34m,\u001b[0m \u001b[0mbody\u001b[0m\u001b[0;34m,\u001b[0m \u001b[0mheaders\u001b[0m\u001b[0;34m,\u001b[0m \u001b[0mencode_chunked\u001b[0m\u001b[0;34m)\u001b[0m\u001b[0;34m\u001b[0m\u001b[0;34m\u001b[0m\u001b[0m\n\u001b[0m\u001b[1;32m   1257\u001b[0m \u001b[0;34m\u001b[0m\u001b[0m\n",
      "\u001b[0;32m/usr/lib/python3.8/http/client.py\u001b[0m in \u001b[0;36m_send_request\u001b[0;34m(self, method, url, body, headers, encode_chunked)\u001b[0m\n\u001b[1;32m   1301\u001b[0m             \u001b[0mbody\u001b[0m \u001b[0;34m=\u001b[0m \u001b[0m_encode\u001b[0m\u001b[0;34m(\u001b[0m\u001b[0mbody\u001b[0m\u001b[0;34m,\u001b[0m \u001b[0;34m'body'\u001b[0m\u001b[0;34m)\u001b[0m\u001b[0;34m\u001b[0m\u001b[0;34m\u001b[0m\u001b[0m\n\u001b[0;32m-> 1302\u001b[0;31m         \u001b[0mself\u001b[0m\u001b[0;34m.\u001b[0m\u001b[0mendheaders\u001b[0m\u001b[0;34m(\u001b[0m\u001b[0mbody\u001b[0m\u001b[0;34m,\u001b[0m \u001b[0mencode_chunked\u001b[0m\u001b[0;34m=\u001b[0m\u001b[0mencode_chunked\u001b[0m\u001b[0;34m)\u001b[0m\u001b[0;34m\u001b[0m\u001b[0;34m\u001b[0m\u001b[0m\n\u001b[0m\u001b[1;32m   1303\u001b[0m \u001b[0;34m\u001b[0m\u001b[0m\n",
      "\u001b[0;32m/usr/lib/python3.8/http/client.py\u001b[0m in \u001b[0;36mendheaders\u001b[0;34m(self, message_body, encode_chunked)\u001b[0m\n\u001b[1;32m   1250\u001b[0m             \u001b[0;32mraise\u001b[0m \u001b[0mCannotSendHeader\u001b[0m\u001b[0;34m(\u001b[0m\u001b[0;34m)\u001b[0m\u001b[0;34m\u001b[0m\u001b[0;34m\u001b[0m\u001b[0m\n\u001b[0;32m-> 1251\u001b[0;31m         \u001b[0mself\u001b[0m\u001b[0;34m.\u001b[0m\u001b[0m_send_output\u001b[0m\u001b[0;34m(\u001b[0m\u001b[0mmessage_body\u001b[0m\u001b[0;34m,\u001b[0m \u001b[0mencode_chunked\u001b[0m\u001b[0;34m=\u001b[0m\u001b[0mencode_chunked\u001b[0m\u001b[0;34m)\u001b[0m\u001b[0;34m\u001b[0m\u001b[0;34m\u001b[0m\u001b[0m\n\u001b[0m\u001b[1;32m   1252\u001b[0m \u001b[0;34m\u001b[0m\u001b[0m\n",
      "\u001b[0;32m/usr/lib/python3.8/http/client.py\u001b[0m in \u001b[0;36m_send_output\u001b[0;34m(self, message_body, encode_chunked)\u001b[0m\n\u001b[1;32m   1010\u001b[0m         \u001b[0;32mdel\u001b[0m \u001b[0mself\u001b[0m\u001b[0;34m.\u001b[0m\u001b[0m_buffer\u001b[0m\u001b[0;34m[\u001b[0m\u001b[0;34m:\u001b[0m\u001b[0;34m]\u001b[0m\u001b[0;34m\u001b[0m\u001b[0;34m\u001b[0m\u001b[0m\n\u001b[0;32m-> 1011\u001b[0;31m         \u001b[0mself\u001b[0m\u001b[0;34m.\u001b[0m\u001b[0msend\u001b[0m\u001b[0;34m(\u001b[0m\u001b[0mmsg\u001b[0m\u001b[0;34m)\u001b[0m\u001b[0;34m\u001b[0m\u001b[0;34m\u001b[0m\u001b[0m\n\u001b[0m\u001b[1;32m   1012\u001b[0m \u001b[0;34m\u001b[0m\u001b[0m\n",
      "\u001b[0;32m/usr/lib/python3.8/http/client.py\u001b[0m in \u001b[0;36msend\u001b[0;34m(self, data)\u001b[0m\n\u001b[1;32m    950\u001b[0m             \u001b[0;32mif\u001b[0m \u001b[0mself\u001b[0m\u001b[0;34m.\u001b[0m\u001b[0mauto_open\u001b[0m\u001b[0;34m:\u001b[0m\u001b[0;34m\u001b[0m\u001b[0;34m\u001b[0m\u001b[0m\n\u001b[0;32m--> 951\u001b[0;31m                 \u001b[0mself\u001b[0m\u001b[0;34m.\u001b[0m\u001b[0mconnect\u001b[0m\u001b[0;34m(\u001b[0m\u001b[0;34m)\u001b[0m\u001b[0;34m\u001b[0m\u001b[0;34m\u001b[0m\u001b[0m\n\u001b[0m\u001b[1;32m    952\u001b[0m             \u001b[0;32melse\u001b[0m\u001b[0;34m:\u001b[0m\u001b[0;34m\u001b[0m\u001b[0;34m\u001b[0m\u001b[0m\n",
      "\u001b[0;32m/usr/lib/python3.8/http/client.py\u001b[0m in \u001b[0;36mconnect\u001b[0;34m(self)\u001b[0m\n\u001b[1;32m    921\u001b[0m         \u001b[0;34m\"\"\"Connect to the host and port specified in __init__.\"\"\"\u001b[0m\u001b[0;34m\u001b[0m\u001b[0;34m\u001b[0m\u001b[0m\n\u001b[0;32m--> 922\u001b[0;31m         self.sock = self._create_connection(\n\u001b[0m\u001b[1;32m    923\u001b[0m             (self.host,self.port), self.timeout, self.source_address)\n",
      "\u001b[0;32m/usr/lib/python3.8/socket.py\u001b[0m in \u001b[0;36mcreate_connection\u001b[0;34m(address, timeout, source_address)\u001b[0m\n\u001b[1;32m    786\u001b[0m     \u001b[0merr\u001b[0m \u001b[0;34m=\u001b[0m \u001b[0;32mNone\u001b[0m\u001b[0;34m\u001b[0m\u001b[0;34m\u001b[0m\u001b[0m\n\u001b[0;32m--> 787\u001b[0;31m     \u001b[0;32mfor\u001b[0m \u001b[0mres\u001b[0m \u001b[0;32min\u001b[0m \u001b[0mgetaddrinfo\u001b[0m\u001b[0;34m(\u001b[0m\u001b[0mhost\u001b[0m\u001b[0;34m,\u001b[0m \u001b[0mport\u001b[0m\u001b[0;34m,\u001b[0m \u001b[0;36m0\u001b[0m\u001b[0;34m,\u001b[0m \u001b[0mSOCK_STREAM\u001b[0m\u001b[0;34m)\u001b[0m\u001b[0;34m:\u001b[0m\u001b[0;34m\u001b[0m\u001b[0;34m\u001b[0m\u001b[0m\n\u001b[0m\u001b[1;32m    788\u001b[0m         \u001b[0maf\u001b[0m\u001b[0;34m,\u001b[0m \u001b[0msocktype\u001b[0m\u001b[0;34m,\u001b[0m \u001b[0mproto\u001b[0m\u001b[0;34m,\u001b[0m \u001b[0mcanonname\u001b[0m\u001b[0;34m,\u001b[0m \u001b[0msa\u001b[0m \u001b[0;34m=\u001b[0m \u001b[0mres\u001b[0m\u001b[0;34m\u001b[0m\u001b[0;34m\u001b[0m\u001b[0m\n",
      "\u001b[0;32m/usr/lib/python3.8/socket.py\u001b[0m in \u001b[0;36mgetaddrinfo\u001b[0;34m(host, port, family, type, proto, flags)\u001b[0m\n\u001b[1;32m    917\u001b[0m     \u001b[0maddrlist\u001b[0m \u001b[0;34m=\u001b[0m \u001b[0;34m[\u001b[0m\u001b[0;34m]\u001b[0m\u001b[0;34m\u001b[0m\u001b[0;34m\u001b[0m\u001b[0m\n\u001b[0;32m--> 918\u001b[0;31m     \u001b[0;32mfor\u001b[0m \u001b[0mres\u001b[0m \u001b[0;32min\u001b[0m \u001b[0m_socket\u001b[0m\u001b[0;34m.\u001b[0m\u001b[0mgetaddrinfo\u001b[0m\u001b[0;34m(\u001b[0m\u001b[0mhost\u001b[0m\u001b[0;34m,\u001b[0m \u001b[0mport\u001b[0m\u001b[0;34m,\u001b[0m \u001b[0mfamily\u001b[0m\u001b[0;34m,\u001b[0m \u001b[0mtype\u001b[0m\u001b[0;34m,\u001b[0m \u001b[0mproto\u001b[0m\u001b[0;34m,\u001b[0m \u001b[0mflags\u001b[0m\u001b[0;34m)\u001b[0m\u001b[0;34m:\u001b[0m\u001b[0;34m\u001b[0m\u001b[0;34m\u001b[0m\u001b[0m\n\u001b[0m\u001b[1;32m    919\u001b[0m         \u001b[0maf\u001b[0m\u001b[0;34m,\u001b[0m \u001b[0msocktype\u001b[0m\u001b[0;34m,\u001b[0m \u001b[0mproto\u001b[0m\u001b[0;34m,\u001b[0m \u001b[0mcanonname\u001b[0m\u001b[0;34m,\u001b[0m \u001b[0msa\u001b[0m \u001b[0;34m=\u001b[0m \u001b[0mres\u001b[0m\u001b[0;34m\u001b[0m\u001b[0;34m\u001b[0m\u001b[0m\n",
      "\u001b[0;31mgaierror\u001b[0m: [Errno -3] Temporary failure in name resolution",
      "\nDuring handling of the above exception, another exception occurred:\n",
      "\u001b[0;31mURLError\u001b[0m                                  Traceback (most recent call last)",
      "\u001b[0;32m/tmp/ipykernel_3455/1125445183.py\u001b[0m in \u001b[0;36m<module>\u001b[0;34m\u001b[0m\n\u001b[1;32m      1\u001b[0m \u001b[0murl\u001b[0m \u001b[0;34m=\u001b[0m \u001b[0;34m\"http://isc-mirror.iris.washington.edu/cgi-bin/web-db-v4?request=COMPREHENSIVE&out_format=CATCSV&searchshape=RECT&bot_lat=\"\u001b[0m \u001b[0;34m+\u001b[0m \u001b[0myst\u001b[0m \u001b[0;34m+\u001b[0m \u001b[0;34m\"&top_lat=\"\u001b[0m \u001b[0;34m+\u001b[0m \u001b[0myen\u001b[0m \u001b[0;34m+\u001b[0m \u001b[0;34m\"&left_lon=\"\u001b[0m \u001b[0;34m+\u001b[0m \u001b[0mxst\u001b[0m \u001b[0;34m+\u001b[0m \u001b[0;34m\"&right_lon=\"\u001b[0m \u001b[0;34m+\u001b[0m \u001b[0mxen\u001b[0m \u001b[0;34m+\u001b[0m \u001b[0;34m\"&ctr_lat=&ctr_lon=&radius=&max_dist_units=deg&srn=&grn=&start_year=\"\u001b[0m \u001b[0;34m+\u001b[0m \u001b[0mstr\u001b[0m\u001b[0;34m(\u001b[0m\u001b[0mstart_time\u001b[0m\u001b[0;34m.\u001b[0m\u001b[0myear\u001b[0m\u001b[0;34m)\u001b[0m \u001b[0;34m+\u001b[0m \u001b[0;34m\"&start_month=\"\u001b[0m \u001b[0;34m+\u001b[0m \u001b[0mstr\u001b[0m\u001b[0;34m(\u001b[0m\u001b[0mstart_time\u001b[0m\u001b[0;34m.\u001b[0m\u001b[0mmonth\u001b[0m\u001b[0;34m)\u001b[0m \u001b[0;34m+\u001b[0m \u001b[0;34m\"&start_day=\"\u001b[0m \u001b[0;34m+\u001b[0m \u001b[0mstr\u001b[0m\u001b[0;34m(\u001b[0m\u001b[0mstart_time\u001b[0m\u001b[0;34m.\u001b[0m\u001b[0mday\u001b[0m\u001b[0;34m)\u001b[0m \u001b[0;34m+\u001b[0m \u001b[0;34m\"&start_time=00%3A00%3A00&end_year=\"\u001b[0m \u001b[0;34m+\u001b[0m \u001b[0mstr\u001b[0m\u001b[0;34m(\u001b[0m\u001b[0mend_time\u001b[0m\u001b[0;34m.\u001b[0m\u001b[0myear\u001b[0m\u001b[0;34m)\u001b[0m \u001b[0;34m+\u001b[0m \u001b[0;34m\"&end_month=\"\u001b[0m \u001b[0;34m+\u001b[0m \u001b[0mstr\u001b[0m\u001b[0;34m(\u001b[0m\u001b[0mend_time\u001b[0m\u001b[0;34m.\u001b[0m\u001b[0mmonth\u001b[0m\u001b[0;34m)\u001b[0m \u001b[0;34m+\u001b[0m \u001b[0;34m\"&end_day=\"\u001b[0m \u001b[0;34m+\u001b[0m \u001b[0mstr\u001b[0m\u001b[0;34m(\u001b[0m\u001b[0mend_time\u001b[0m\u001b[0;34m.\u001b[0m\u001b[0mday\u001b[0m\u001b[0;34m)\u001b[0m \u001b[0;34m+\u001b[0m \u001b[0;34m\"&end_time=00%3A00%3A00&min_dep=&max_dep=&null_dep=on&min_mag=\"\u001b[0m \u001b[0;34m+\u001b[0m \u001b[0;34m\"&max_mag=&req_mag_type=\"\u001b[0m \u001b[0;34m+\u001b[0m \u001b[0mtype_\u001b[0m \u001b[0;34m+\u001b[0m \u001b[0;34m\"&req_mag_agcy=\"\u001b[0m \u001b[0;34m+\u001b[0m \u001b[0mauthor\u001b[0m\u001b[0;34m\u001b[0m\u001b[0;34m\u001b[0m\u001b[0m\n\u001b[0;32m----> 2\u001b[0;31m \u001b[0mcsv\u001b[0m \u001b[0;34m=\u001b[0m \u001b[0murllib\u001b[0m\u001b[0;34m.\u001b[0m\u001b[0mrequest\u001b[0m\u001b[0;34m.\u001b[0m\u001b[0murlopen\u001b[0m\u001b[0;34m(\u001b[0m\u001b[0murl\u001b[0m\u001b[0;34m)\u001b[0m\u001b[0;34m.\u001b[0m\u001b[0mread\u001b[0m\u001b[0;34m(\u001b[0m\u001b[0;34m)\u001b[0m\u001b[0;34m.\u001b[0m\u001b[0mdecode\u001b[0m\u001b[0;34m(\u001b[0m\u001b[0;34m\"utf-8\"\u001b[0m\u001b[0;34m)\u001b[0m\u001b[0;34m\u001b[0m\u001b[0;34m\u001b[0m\u001b[0m\n\u001b[0m",
      "\u001b[0;32m/usr/lib/python3.8/urllib/request.py\u001b[0m in \u001b[0;36murlopen\u001b[0;34m(url, data, timeout, cafile, capath, cadefault, context)\u001b[0m\n\u001b[1;32m    220\u001b[0m     \u001b[0;32melse\u001b[0m\u001b[0;34m:\u001b[0m\u001b[0;34m\u001b[0m\u001b[0;34m\u001b[0m\u001b[0m\n\u001b[1;32m    221\u001b[0m         \u001b[0mopener\u001b[0m \u001b[0;34m=\u001b[0m \u001b[0m_opener\u001b[0m\u001b[0;34m\u001b[0m\u001b[0;34m\u001b[0m\u001b[0m\n\u001b[0;32m--> 222\u001b[0;31m     \u001b[0;32mreturn\u001b[0m \u001b[0mopener\u001b[0m\u001b[0;34m.\u001b[0m\u001b[0mopen\u001b[0m\u001b[0;34m(\u001b[0m\u001b[0murl\u001b[0m\u001b[0;34m,\u001b[0m \u001b[0mdata\u001b[0m\u001b[0;34m,\u001b[0m \u001b[0mtimeout\u001b[0m\u001b[0;34m)\u001b[0m\u001b[0;34m\u001b[0m\u001b[0;34m\u001b[0m\u001b[0m\n\u001b[0m\u001b[1;32m    223\u001b[0m \u001b[0;34m\u001b[0m\u001b[0m\n\u001b[1;32m    224\u001b[0m \u001b[0;32mdef\u001b[0m \u001b[0minstall_opener\u001b[0m\u001b[0;34m(\u001b[0m\u001b[0mopener\u001b[0m\u001b[0;34m)\u001b[0m\u001b[0;34m:\u001b[0m\u001b[0;34m\u001b[0m\u001b[0;34m\u001b[0m\u001b[0m\n",
      "\u001b[0;32m/usr/lib/python3.8/urllib/request.py\u001b[0m in \u001b[0;36mopen\u001b[0;34m(self, fullurl, data, timeout)\u001b[0m\n\u001b[1;32m    523\u001b[0m \u001b[0;34m\u001b[0m\u001b[0m\n\u001b[1;32m    524\u001b[0m         \u001b[0msys\u001b[0m\u001b[0;34m.\u001b[0m\u001b[0maudit\u001b[0m\u001b[0;34m(\u001b[0m\u001b[0;34m'urllib.Request'\u001b[0m\u001b[0;34m,\u001b[0m \u001b[0mreq\u001b[0m\u001b[0;34m.\u001b[0m\u001b[0mfull_url\u001b[0m\u001b[0;34m,\u001b[0m \u001b[0mreq\u001b[0m\u001b[0;34m.\u001b[0m\u001b[0mdata\u001b[0m\u001b[0;34m,\u001b[0m \u001b[0mreq\u001b[0m\u001b[0;34m.\u001b[0m\u001b[0mheaders\u001b[0m\u001b[0;34m,\u001b[0m \u001b[0mreq\u001b[0m\u001b[0;34m.\u001b[0m\u001b[0mget_method\u001b[0m\u001b[0;34m(\u001b[0m\u001b[0;34m)\u001b[0m\u001b[0;34m)\u001b[0m\u001b[0;34m\u001b[0m\u001b[0;34m\u001b[0m\u001b[0m\n\u001b[0;32m--> 525\u001b[0;31m         \u001b[0mresponse\u001b[0m \u001b[0;34m=\u001b[0m \u001b[0mself\u001b[0m\u001b[0;34m.\u001b[0m\u001b[0m_open\u001b[0m\u001b[0;34m(\u001b[0m\u001b[0mreq\u001b[0m\u001b[0;34m,\u001b[0m \u001b[0mdata\u001b[0m\u001b[0;34m)\u001b[0m\u001b[0;34m\u001b[0m\u001b[0;34m\u001b[0m\u001b[0m\n\u001b[0m\u001b[1;32m    526\u001b[0m \u001b[0;34m\u001b[0m\u001b[0m\n\u001b[1;32m    527\u001b[0m         \u001b[0;31m# post-process response\u001b[0m\u001b[0;34m\u001b[0m\u001b[0;34m\u001b[0m\u001b[0;34m\u001b[0m\u001b[0m\n",
      "\u001b[0;32m/usr/lib/python3.8/urllib/request.py\u001b[0m in \u001b[0;36m_open\u001b[0;34m(self, req, data)\u001b[0m\n\u001b[1;32m    540\u001b[0m \u001b[0;34m\u001b[0m\u001b[0m\n\u001b[1;32m    541\u001b[0m         \u001b[0mprotocol\u001b[0m \u001b[0;34m=\u001b[0m \u001b[0mreq\u001b[0m\u001b[0;34m.\u001b[0m\u001b[0mtype\u001b[0m\u001b[0;34m\u001b[0m\u001b[0;34m\u001b[0m\u001b[0m\n\u001b[0;32m--> 542\u001b[0;31m         result = self._call_chain(self.handle_open, protocol, protocol +\n\u001b[0m\u001b[1;32m    543\u001b[0m                                   '_open', req)\n\u001b[1;32m    544\u001b[0m         \u001b[0;32mif\u001b[0m \u001b[0mresult\u001b[0m\u001b[0;34m:\u001b[0m\u001b[0;34m\u001b[0m\u001b[0;34m\u001b[0m\u001b[0m\n",
      "\u001b[0;32m/usr/lib/python3.8/urllib/request.py\u001b[0m in \u001b[0;36m_call_chain\u001b[0;34m(self, chain, kind, meth_name, *args)\u001b[0m\n\u001b[1;32m    500\u001b[0m         \u001b[0;32mfor\u001b[0m \u001b[0mhandler\u001b[0m \u001b[0;32min\u001b[0m \u001b[0mhandlers\u001b[0m\u001b[0;34m:\u001b[0m\u001b[0;34m\u001b[0m\u001b[0;34m\u001b[0m\u001b[0m\n\u001b[1;32m    501\u001b[0m             \u001b[0mfunc\u001b[0m \u001b[0;34m=\u001b[0m \u001b[0mgetattr\u001b[0m\u001b[0;34m(\u001b[0m\u001b[0mhandler\u001b[0m\u001b[0;34m,\u001b[0m \u001b[0mmeth_name\u001b[0m\u001b[0;34m)\u001b[0m\u001b[0;34m\u001b[0m\u001b[0;34m\u001b[0m\u001b[0m\n\u001b[0;32m--> 502\u001b[0;31m             \u001b[0mresult\u001b[0m \u001b[0;34m=\u001b[0m \u001b[0mfunc\u001b[0m\u001b[0;34m(\u001b[0m\u001b[0;34m*\u001b[0m\u001b[0margs\u001b[0m\u001b[0;34m)\u001b[0m\u001b[0;34m\u001b[0m\u001b[0;34m\u001b[0m\u001b[0m\n\u001b[0m\u001b[1;32m    503\u001b[0m             \u001b[0;32mif\u001b[0m \u001b[0mresult\u001b[0m \u001b[0;32mis\u001b[0m \u001b[0;32mnot\u001b[0m \u001b[0;32mNone\u001b[0m\u001b[0;34m:\u001b[0m\u001b[0;34m\u001b[0m\u001b[0;34m\u001b[0m\u001b[0m\n\u001b[1;32m    504\u001b[0m                 \u001b[0;32mreturn\u001b[0m \u001b[0mresult\u001b[0m\u001b[0;34m\u001b[0m\u001b[0;34m\u001b[0m\u001b[0m\n",
      "\u001b[0;32m/usr/lib/python3.8/urllib/request.py\u001b[0m in \u001b[0;36mhttp_open\u001b[0;34m(self, req)\u001b[0m\n\u001b[1;32m   1381\u001b[0m \u001b[0;34m\u001b[0m\u001b[0m\n\u001b[1;32m   1382\u001b[0m     \u001b[0;32mdef\u001b[0m \u001b[0mhttp_open\u001b[0m\u001b[0;34m(\u001b[0m\u001b[0mself\u001b[0m\u001b[0;34m,\u001b[0m \u001b[0mreq\u001b[0m\u001b[0;34m)\u001b[0m\u001b[0;34m:\u001b[0m\u001b[0;34m\u001b[0m\u001b[0;34m\u001b[0m\u001b[0m\n\u001b[0;32m-> 1383\u001b[0;31m         \u001b[0;32mreturn\u001b[0m \u001b[0mself\u001b[0m\u001b[0;34m.\u001b[0m\u001b[0mdo_open\u001b[0m\u001b[0;34m(\u001b[0m\u001b[0mhttp\u001b[0m\u001b[0;34m.\u001b[0m\u001b[0mclient\u001b[0m\u001b[0;34m.\u001b[0m\u001b[0mHTTPConnection\u001b[0m\u001b[0;34m,\u001b[0m \u001b[0mreq\u001b[0m\u001b[0;34m)\u001b[0m\u001b[0;34m\u001b[0m\u001b[0;34m\u001b[0m\u001b[0m\n\u001b[0m\u001b[1;32m   1384\u001b[0m \u001b[0;34m\u001b[0m\u001b[0m\n\u001b[1;32m   1385\u001b[0m     \u001b[0mhttp_request\u001b[0m \u001b[0;34m=\u001b[0m \u001b[0mAbstractHTTPHandler\u001b[0m\u001b[0;34m.\u001b[0m\u001b[0mdo_request_\u001b[0m\u001b[0;34m\u001b[0m\u001b[0;34m\u001b[0m\u001b[0m\n",
      "\u001b[0;32m/usr/lib/python3.8/urllib/request.py\u001b[0m in \u001b[0;36mdo_open\u001b[0;34m(self, http_class, req, **http_conn_args)\u001b[0m\n\u001b[1;32m   1355\u001b[0m                           encode_chunked=req.has_header('Transfer-encoding'))\n\u001b[1;32m   1356\u001b[0m             \u001b[0;32mexcept\u001b[0m \u001b[0mOSError\u001b[0m \u001b[0;32mas\u001b[0m \u001b[0merr\u001b[0m\u001b[0;34m:\u001b[0m \u001b[0;31m# timeout error\u001b[0m\u001b[0;34m\u001b[0m\u001b[0;34m\u001b[0m\u001b[0m\n\u001b[0;32m-> 1357\u001b[0;31m                 \u001b[0;32mraise\u001b[0m \u001b[0mURLError\u001b[0m\u001b[0;34m(\u001b[0m\u001b[0merr\u001b[0m\u001b[0;34m)\u001b[0m\u001b[0;34m\u001b[0m\u001b[0;34m\u001b[0m\u001b[0m\n\u001b[0m\u001b[1;32m   1358\u001b[0m             \u001b[0mr\u001b[0m \u001b[0;34m=\u001b[0m \u001b[0mh\u001b[0m\u001b[0;34m.\u001b[0m\u001b[0mgetresponse\u001b[0m\u001b[0;34m(\u001b[0m\u001b[0;34m)\u001b[0m\u001b[0;34m\u001b[0m\u001b[0;34m\u001b[0m\u001b[0m\n\u001b[1;32m   1359\u001b[0m         \u001b[0;32mexcept\u001b[0m\u001b[0;34m:\u001b[0m\u001b[0;34m\u001b[0m\u001b[0;34m\u001b[0m\u001b[0m\n",
      "\u001b[0;31mURLError\u001b[0m: <urlopen error [Errno -3] Temporary failure in name resolution>"
     ]
    }
   ],
   "source": [
    "url = \"http://isc-mirror.iris.washington.edu/cgi-bin/web-db-v4?request=COMPREHENSIVE&out_format=CATCSV&searchshape=RECT&bot_lat=\" + yst + \"&top_lat=\" + yen + \"&left_lon=\" + xst + \"&right_lon=\" + xen + \"&ctr_lat=&ctr_lon=&radius=&max_dist_units=deg&srn=&grn=&start_year=\" + str(start_time.year) + \"&start_month=\" + str(start_time.month) + \"&start_day=\" + str(start_time.day) + \"&start_time=00%3A00%3A00&end_year=\" + str(end_time.year) + \"&end_month=\" + str(end_time.month) + \"&end_day=\" + str(end_time.day) + \"&end_time=00%3A00%3A00&min_dep=&max_dep=&null_dep=on&min_mag=\" + \"&max_mag=&req_mag_type=\" + type_ + \"&req_mag_agcy=\" + author\n",
    "csv = urllib.request.urlopen(url).read().decode(\"utf-8\") "
   ]
  },
  {
   "cell_type": "code",
   "execution_count": 5,
   "id": "dad9146f",
   "metadata": {},
   "outputs": [],
   "source": [
    "start = csv.find('...')\n",
    "end = csv.find('STOP', start)\n",
    "csv = csv[start + 5:end]"
   ]
  },
  {
   "cell_type": "code",
   "execution_count": 6,
   "id": "81d3f7c4",
   "metadata": {},
   "outputs": [],
   "source": [
    "df = pd.read_csv(StringIO(csv), sep=\",\", on_bad_lines='skip')"
   ]
  },
  {
   "cell_type": "code",
   "execution_count": 7,
   "id": "c81ec032",
   "metadata": {
    "scrolled": false
   },
   "outputs": [
    {
     "data": {
      "text/html": [
       "<div>\n",
       "<style scoped>\n",
       "    .dataframe tbody tr th:only-of-type {\n",
       "        vertical-align: middle;\n",
       "    }\n",
       "\n",
       "    .dataframe tbody tr th {\n",
       "        vertical-align: top;\n",
       "    }\n",
       "\n",
       "    .dataframe thead th {\n",
       "        text-align: right;\n",
       "    }\n",
       "</style>\n",
       "<table border=\"1\" class=\"dataframe\">\n",
       "  <thead>\n",
       "    <tr style=\"text-align: right;\">\n",
       "      <th></th>\n",
       "      <th>EVENTID</th>\n",
       "      <th>TYPE</th>\n",
       "      <th>AUTHOR</th>\n",
       "      <th>DATE</th>\n",
       "      <th>TIME</th>\n",
       "      <th>LAT</th>\n",
       "      <th>LON</th>\n",
       "      <th>DEPTH</th>\n",
       "      <th>DEPFIX</th>\n",
       "      <th>AUTHOR   .1</th>\n",
       "      <th>TYPE</th>\n",
       "      <th>MAG</th>\n",
       "    </tr>\n",
       "  </thead>\n",
       "  <tbody>\n",
       "    <tr>\n",
       "      <th>0</th>\n",
       "      <td>1004915</td>\n",
       "      <td>ke</td>\n",
       "      <td>ISC</td>\n",
       "      <td>1997-01-04</td>\n",
       "      <td>12:31:52.00</td>\n",
       "      <td>33.8238</td>\n",
       "      <td>131.1687</td>\n",
       "      <td>13.7</td>\n",
       "      <td></td>\n",
       "      <td>NIED</td>\n",
       "      <td>Mw</td>\n",
       "      <td>3.8</td>\n",
       "    </tr>\n",
       "    <tr>\n",
       "      <th>1</th>\n",
       "      <td>1005850</td>\n",
       "      <td>ke</td>\n",
       "      <td>ISC</td>\n",
       "      <td>1997-01-11</td>\n",
       "      <td>05:50:23.79</td>\n",
       "      <td>31.5974</td>\n",
       "      <td>131.7461</td>\n",
       "      <td>40.0</td>\n",
       "      <td></td>\n",
       "      <td>NIED</td>\n",
       "      <td>Mw</td>\n",
       "      <td>5.4</td>\n",
       "    </tr>\n",
       "    <tr>\n",
       "      <th>2</th>\n",
       "      <td>1006351</td>\n",
       "      <td>ke</td>\n",
       "      <td>ISC</td>\n",
       "      <td>1997-01-14</td>\n",
       "      <td>08:48:35.66</td>\n",
       "      <td>33.2363</td>\n",
       "      <td>132.3621</td>\n",
       "      <td>7.9</td>\n",
       "      <td></td>\n",
       "      <td>NIED</td>\n",
       "      <td>Mw</td>\n",
       "      <td>3.5</td>\n",
       "    </tr>\n",
       "    <tr>\n",
       "      <th>3</th>\n",
       "      <td>1006386</td>\n",
       "      <td>ke</td>\n",
       "      <td>ISC</td>\n",
       "      <td>1997-01-14</td>\n",
       "      <td>14:46:53.62</td>\n",
       "      <td>30.5042</td>\n",
       "      <td>131.5143</td>\n",
       "      <td>34.4</td>\n",
       "      <td></td>\n",
       "      <td>NIED</td>\n",
       "      <td>Mw</td>\n",
       "      <td>4.5</td>\n",
       "    </tr>\n",
       "    <tr>\n",
       "      <th>4</th>\n",
       "      <td>1006639</td>\n",
       "      <td>ke</td>\n",
       "      <td>ISC</td>\n",
       "      <td>1997-01-16</td>\n",
       "      <td>06:10:37.40</td>\n",
       "      <td>31.7345</td>\n",
       "      <td>131.7291</td>\n",
       "      <td>33.8</td>\n",
       "      <td></td>\n",
       "      <td>NIED</td>\n",
       "      <td>Mw</td>\n",
       "      <td>3.9</td>\n",
       "    </tr>\n",
       "  </tbody>\n",
       "</table>\n",
       "</div>"
      ],
      "text/plain": [
       "    EVENTID  TYPE  AUTHOR     DATE        TIME         LAT       LON        \\\n",
       "0   1004915  ke    ISC        1997-01-04  12:31:52.00   33.8238   131.1687   \n",
       "1   1005850  ke    ISC        1997-01-11  05:50:23.79   31.5974   131.7461   \n",
       "2   1006351  ke    ISC        1997-01-14  08:48:35.66   33.2363   132.3621   \n",
       "3   1006386  ke    ISC        1997-01-14  14:46:53.62   30.5042   131.5143   \n",
       "4   1006639  ke    ISC        1997-01-16  06:10:37.40   31.7345   131.7291   \n",
       "\n",
       "   DEPTH  DEPFIX AUTHOR   .1  TYPE    MAG   \n",
       "0   13.7           NIED       Mw       3.8  \n",
       "1   40.0           NIED       Mw       5.4  \n",
       "2    7.9           NIED       Mw       3.5  \n",
       "3   34.4           NIED       Mw       4.5  \n",
       "4   33.8           NIED       Mw       3.9  "
      ]
     },
     "execution_count": 7,
     "metadata": {},
     "output_type": "execute_result"
    }
   ],
   "source": [
    "df.head()"
   ]
  },
  {
   "cell_type": "code",
   "execution_count": 8,
   "id": "2d67ffc3",
   "metadata": {},
   "outputs": [],
   "source": [
    "df = df.rename(columns = {' EVENTID': 'EVENTID', 'AUTHOR   ': 'AUTHOR', 'DATE      ': 'DATE','TIME       ': 'TIME', 'LAT     ':'LAT', 'LON      ': 'LON', 'AUTHOR   .1': 'AUTHOR MAG', 'TYPE  ': 'TYPE MAG', 'MAG ': 'MAG'})"
   ]
  },
  {
   "cell_type": "code",
   "execution_count": 9,
   "id": "6de81634",
   "metadata": {},
   "outputs": [],
   "source": [
    "df.to_csv('raw_data.csv', index=False)"
   ]
  },
  {
   "cell_type": "markdown",
   "id": "0824d14d",
   "metadata": {},
   "source": [
    "### 2. Обработка данных"
   ]
  },
  {
   "cell_type": "code",
   "execution_count": 4,
   "id": "cc735cc2",
   "metadata": {},
   "outputs": [],
   "source": [
    "df = pd.read_csv('raw_data.csv')"
   ]
  },
  {
   "cell_type": "code",
   "execution_count": 5,
   "id": "251b3f1e",
   "metadata": {
    "scrolled": true
   },
   "outputs": [
    {
     "data": {
      "text/html": [
       "<div>\n",
       "<style scoped>\n",
       "    .dataframe tbody tr th:only-of-type {\n",
       "        vertical-align: middle;\n",
       "    }\n",
       "\n",
       "    .dataframe tbody tr th {\n",
       "        vertical-align: top;\n",
       "    }\n",
       "\n",
       "    .dataframe thead th {\n",
       "        text-align: right;\n",
       "    }\n",
       "</style>\n",
       "<table border=\"1\" class=\"dataframe\">\n",
       "  <thead>\n",
       "    <tr style=\"text-align: right;\">\n",
       "      <th></th>\n",
       "      <th>EVENTID</th>\n",
       "      <th>TYPE</th>\n",
       "      <th>AUTHOR</th>\n",
       "      <th>DATE</th>\n",
       "      <th>TIME</th>\n",
       "      <th>LAT</th>\n",
       "      <th>LON</th>\n",
       "      <th>DEPTH</th>\n",
       "      <th>DEPFIX</th>\n",
       "      <th>AUTHOR MAG</th>\n",
       "      <th>TYPE MAG</th>\n",
       "      <th>MAG</th>\n",
       "    </tr>\n",
       "  </thead>\n",
       "  <tbody>\n",
       "    <tr>\n",
       "      <th>6179</th>\n",
       "      <td>7457443</td>\n",
       "      <td>fe</td>\n",
       "      <td>ISC</td>\n",
       "      <td>2004-12-30</td>\n",
       "      <td>15:15:48.62</td>\n",
       "      <td>33.0934</td>\n",
       "      <td>140.7714</td>\n",
       "      <td>47.3</td>\n",
       "      <td></td>\n",
       "      <td>NIED</td>\n",
       "      <td>Mw</td>\n",
       "      <td>3.8</td>\n",
       "    </tr>\n",
       "    <tr>\n",
       "      <th>6180</th>\n",
       "      <td>7457475</td>\n",
       "      <td>ke</td>\n",
       "      <td>ISC</td>\n",
       "      <td>2004-12-30</td>\n",
       "      <td>17:28:16.61</td>\n",
       "      <td>28.9417</td>\n",
       "      <td>130.5682</td>\n",
       "      <td>40.0</td>\n",
       "      <td>TRUE</td>\n",
       "      <td>NIED</td>\n",
       "      <td>Mw</td>\n",
       "      <td>4.3</td>\n",
       "    </tr>\n",
       "    <tr>\n",
       "      <th>6181</th>\n",
       "      <td>7457810</td>\n",
       "      <td>fe</td>\n",
       "      <td>ISC</td>\n",
       "      <td>2004-12-31</td>\n",
       "      <td>08:30:22.60</td>\n",
       "      <td>39.8090</td>\n",
       "      <td>142.4733</td>\n",
       "      <td>56.2</td>\n",
       "      <td></td>\n",
       "      <td>NIED</td>\n",
       "      <td>Mw</td>\n",
       "      <td>4.3</td>\n",
       "    </tr>\n",
       "    <tr>\n",
       "      <th>6182</th>\n",
       "      <td>7457844</td>\n",
       "      <td>ke</td>\n",
       "      <td>ISC</td>\n",
       "      <td>2004-12-31</td>\n",
       "      <td>09:58:50.39</td>\n",
       "      <td>39.8976</td>\n",
       "      <td>143.5029</td>\n",
       "      <td>6.0</td>\n",
       "      <td>TRUE</td>\n",
       "      <td>NIED</td>\n",
       "      <td>Mw</td>\n",
       "      <td>4.2</td>\n",
       "    </tr>\n",
       "    <tr>\n",
       "      <th>6183</th>\n",
       "      <td>7458037</td>\n",
       "      <td>fe</td>\n",
       "      <td>ISC</td>\n",
       "      <td>2004-12-31</td>\n",
       "      <td>20:13:48.62</td>\n",
       "      <td>36.8474</td>\n",
       "      <td>140.9306</td>\n",
       "      <td>88.2</td>\n",
       "      <td></td>\n",
       "      <td>NIED</td>\n",
       "      <td>Mw</td>\n",
       "      <td>5.0</td>\n",
       "    </tr>\n",
       "  </tbody>\n",
       "</table>\n",
       "</div>"
      ],
      "text/plain": [
       "      EVENTID  TYPE     AUTHOR        DATE         TIME      LAT       LON  \\\n",
       "6179  7457443  fe    ISC        2004-12-30  15:15:48.62  33.0934  140.7714   \n",
       "6180  7457475  ke    ISC        2004-12-30  17:28:16.61  28.9417  130.5682   \n",
       "6181  7457810  fe    ISC        2004-12-31  08:30:22.60  39.8090  142.4733   \n",
       "6182  7457844  ke    ISC        2004-12-31  09:58:50.39  39.8976  143.5029   \n",
       "6183  7458037  fe    ISC        2004-12-31  20:13:48.62  36.8474  140.9306   \n",
       "\n",
       "      DEPTH  DEPFIX AUTHOR MAG TYPE MAG  MAG  \n",
       "6179   47.3          NIED        Mw      3.8  \n",
       "6180   40.0  TRUE    NIED        Mw      4.3  \n",
       "6181   56.2          NIED        Mw      4.3  \n",
       "6182    6.0  TRUE    NIED        Mw      4.2  \n",
       "6183   88.2          NIED        Mw      5.0  "
      ]
     },
     "execution_count": 5,
     "metadata": {},
     "output_type": "execute_result"
    }
   ],
   "source": [
    "df.tail()"
   ]
  },
  {
   "cell_type": "code",
   "execution_count": 6,
   "id": "b018d027",
   "metadata": {},
   "outputs": [],
   "source": [
    "df['COORDINATE'] = df.apply(lambda x: (x['LAT'], x['LON']), axis = 1)"
   ]
  },
  {
   "cell_type": "code",
   "execution_count": 7,
   "id": "b05b28ac",
   "metadata": {},
   "outputs": [],
   "source": [
    "df['DATE'] = df.apply(lambda x: date(int(x['DATE'][:4]), int(x['DATE'][5:7]), int(x['DATE'][8:10])), axis=1)"
   ]
  },
  {
   "cell_type": "markdown",
   "id": "cfadbb3d",
   "metadata": {},
   "source": [
    "### 3.1 Подсчет средней магнитуды и плотности землетрясений "
   ]
  },
  {
   "cell_type": "markdown",
   "id": "c39be2d2",
   "metadata": {},
   "source": [
    "**Первый способ**: для каждой точки найдем те, которые отстоят не больше, чем на $R$, и по времени произошли раньше не больше, чем на $T$ дней (воспользуемся упорядоченностью таблицы)"
   ]
  },
  {
   "cell_type": "code",
   "execution_count": 65,
   "id": "1e4f1f74",
   "metadata": {},
   "outputs": [],
   "source": [
    "def density(x, df, R = 100, T = 365):\n",
    "    suit_r = [distance(x['COORDINATE'], df.iloc[i]['COORDINATE']).km < R for i in range(0, df.shape[0])]\n",
    "    \n",
    "    suit_t = [False] * df.shape[0]\n",
    "    j = x.to_frame().T.index[0]\n",
    "    while j >= 0:\n",
    "        if x['DATE'] - df.iloc[j]['DATE'] < timedelta(days = T):\n",
    "            suit_t[j] = True\n",
    "            j -= 1\n",
    "        else:\n",
    "            break\n",
    "            \n",
    "    res = suit_r and suit_t\n",
    "    n = res.count(True)\n",
    "    density = n / (np.pi * R ** 2 * T)\n",
    "    return density\n"
   ]
  },
  {
   "cell_type": "code",
   "execution_count": 85,
   "id": "3b7d063c",
   "metadata": {},
   "outputs": [],
   "source": [
    "def mean_mag(x, df, R = 200, T = 700):\n",
    "    suit_r = [distance(x['COORDINATE'], df.iloc[i]['COORDINATE']).km < R for i in range(0, df.shape[0])]\n",
    "    j = x.to_frame().T.index[0]\n",
    "    suit_t = [False] * df.shape[0]\n",
    "    while j >= 0:\n",
    "        if x['DATE'] - df.iloc[j]['DATE'] < timedelta(days = T):\n",
    "            suit_t[j] = True\n",
    "            j -= 1\n",
    "        else:\n",
    "            break    \n",
    "    suit = list(map(int, suit_r and suit_t))\n",
    "    res = suit * df['MAG']\n",
    "    a = res.to_list()\n",
    "    m = res.sum() / (len(a) - a.count(0))\n",
    "    return m"
   ]
  },
  {
   "cell_type": "code",
   "execution_count": 88,
   "id": "65a34081",
   "metadata": {},
   "outputs": [],
   "source": [
    "df['DENSITY'] = df.apply(lambda x: density(x, df), axis = 1)"
   ]
  },
  {
   "cell_type": "code",
   "execution_count": 89,
   "id": "a2a2f129",
   "metadata": {},
   "outputs": [],
   "source": [
    "df['MEAN MAG'] = df.apply(lambda x: mean_mag(x, df), axis = 1)"
   ]
  },
  {
   "cell_type": "markdown",
   "id": "119e1ab7",
   "metadata": {},
   "source": [
    "Считалось долго, поэтому сохраним эту таблицу на всякий пожарный"
   ]
  },
  {
   "cell_type": "code",
   "execution_count": 93,
   "id": "361b5e68",
   "metadata": {},
   "outputs": [],
   "source": [
    "df.to_csv('data_edit_1.csv', index=False)"
   ]
  },
  {
   "cell_type": "markdown",
   "id": "6134ebae",
   "metadata": {},
   "source": [
    "### 3.2 Подсчет средней магнитуды и плотности землетрясений"
   ]
  },
  {
   "cell_type": "markdown",
   "id": "c41485f6",
   "metadata": {},
   "source": [
    "**Второй способ**: разобьем участок на сеточку, считая его плоским, в каждой клеточке посчитаем среднюю магнитуду и плотность, а потом сопоставим их каждой точке в клеточке"
   ]
  },
  {
   "cell_type": "code",
   "execution_count": 8,
   "id": "81ede897",
   "metadata": {},
   "outputs": [],
   "source": [
    "from math import ceil"
   ]
  },
  {
   "cell_type": "code",
   "execution_count": 9,
   "id": "f819fbe7",
   "metadata": {},
   "outputs": [],
   "source": [
    "yen = float(yen)\n",
    "yst = float(yst)\n",
    "xen = float(xen)\n",
    "xst = float(xst)"
   ]
  },
  {
   "cell_type": "code",
   "execution_count": 12,
   "id": "07e9ae85",
   "metadata": {},
   "outputs": [],
   "source": [
    "R_earth = 6371\n",
    "R = 200 \n",
    "y_mean = (yst + yen) / 2\n",
    "dy = (R * 360) / (2 * np.pi * R_earth)\n",
    "dx = (R * 360) / (2 * np.pi * R_earth * np.cos(np.deg2rad(y_mean)))"
   ]
  },
  {
   "cell_type": "code",
   "execution_count": 13,
   "id": "72e6c050",
   "metadata": {},
   "outputs": [],
   "source": [
    "a_x = xen - xst\n",
    "a_y = yen - yst"
   ]
  },
  {
   "cell_type": "code",
   "execution_count": 19,
   "id": "52f07526",
   "metadata": {},
   "outputs": [],
   "source": [
    "grid = np.zeros((ceil(a_x / dx), ceil(a_y / dy)))"
   ]
  },
  {
   "cell_type": "code",
   "execution_count": 20,
   "id": "70089af0",
   "metadata": {
    "scrolled": true
   },
   "outputs": [
    {
     "data": {
      "text/plain": [
       "array([[0., 0., 0., 0., 0., 0., 0., 0., 0.],\n",
       "       [0., 0., 0., 0., 0., 0., 0., 0., 0.],\n",
       "       [0., 0., 0., 0., 0., 0., 0., 0., 0.],\n",
       "       [0., 0., 0., 0., 0., 0., 0., 0., 0.],\n",
       "       [0., 0., 0., 0., 0., 0., 0., 0., 0.],\n",
       "       [0., 0., 0., 0., 0., 0., 0., 0., 0.],\n",
       "       [0., 0., 0., 0., 0., 0., 0., 0., 0.]])"
      ]
     },
     "execution_count": 20,
     "metadata": {},
     "output_type": "execute_result"
    }
   ],
   "source": [
    "grid"
   ]
  },
  {
   "cell_type": "code",
   "execution_count": 24,
   "id": "352a46c1",
   "metadata": {},
   "outputs": [
    {
     "name": "stdout",
     "output_type": "stream",
     "text": [
      "27.5\n"
     ]
    }
   ],
   "source": [
    "print()"
   ]
  },
  {
   "cell_type": "code",
   "execution_count": 21,
   "id": "46509575",
   "metadata": {},
   "outputs": [
    {
     "data": {
      "text/html": [
       "<div>\n",
       "<style scoped>\n",
       "    .dataframe tbody tr th:only-of-type {\n",
       "        vertical-align: middle;\n",
       "    }\n",
       "\n",
       "    .dataframe tbody tr th {\n",
       "        vertical-align: top;\n",
       "    }\n",
       "\n",
       "    .dataframe thead th {\n",
       "        text-align: right;\n",
       "    }\n",
       "</style>\n",
       "<table border=\"1\" class=\"dataframe\">\n",
       "  <thead>\n",
       "    <tr style=\"text-align: right;\">\n",
       "      <th></th>\n",
       "      <th>EVENTID</th>\n",
       "      <th>TYPE</th>\n",
       "      <th>AUTHOR</th>\n",
       "      <th>DATE</th>\n",
       "      <th>TIME</th>\n",
       "      <th>LAT</th>\n",
       "      <th>LON</th>\n",
       "      <th>DEPTH</th>\n",
       "      <th>DEPFIX</th>\n",
       "      <th>AUTHOR MAG</th>\n",
       "      <th>TYPE MAG</th>\n",
       "      <th>MAG</th>\n",
       "      <th>COORDINATE</th>\n",
       "    </tr>\n",
       "  </thead>\n",
       "  <tbody>\n",
       "    <tr>\n",
       "      <th>0</th>\n",
       "      <td>1004915</td>\n",
       "      <td>ke</td>\n",
       "      <td>ISC</td>\n",
       "      <td>1997-01-04</td>\n",
       "      <td>12:31:52.00</td>\n",
       "      <td>33.8238</td>\n",
       "      <td>131.1687</td>\n",
       "      <td>13.7</td>\n",
       "      <td></td>\n",
       "      <td>NIED</td>\n",
       "      <td>Mw</td>\n",
       "      <td>3.8</td>\n",
       "      <td>(33.8238, 131.1687)</td>\n",
       "    </tr>\n",
       "    <tr>\n",
       "      <th>1</th>\n",
       "      <td>1005850</td>\n",
       "      <td>ke</td>\n",
       "      <td>ISC</td>\n",
       "      <td>1997-01-11</td>\n",
       "      <td>05:50:23.79</td>\n",
       "      <td>31.5974</td>\n",
       "      <td>131.7461</td>\n",
       "      <td>40.0</td>\n",
       "      <td></td>\n",
       "      <td>NIED</td>\n",
       "      <td>Mw</td>\n",
       "      <td>5.4</td>\n",
       "      <td>(31.5974, 131.7461)</td>\n",
       "    </tr>\n",
       "    <tr>\n",
       "      <th>2</th>\n",
       "      <td>1006351</td>\n",
       "      <td>ke</td>\n",
       "      <td>ISC</td>\n",
       "      <td>1997-01-14</td>\n",
       "      <td>08:48:35.66</td>\n",
       "      <td>33.2363</td>\n",
       "      <td>132.3621</td>\n",
       "      <td>7.9</td>\n",
       "      <td></td>\n",
       "      <td>NIED</td>\n",
       "      <td>Mw</td>\n",
       "      <td>3.5</td>\n",
       "      <td>(33.2363, 132.3621)</td>\n",
       "    </tr>\n",
       "    <tr>\n",
       "      <th>3</th>\n",
       "      <td>1006386</td>\n",
       "      <td>ke</td>\n",
       "      <td>ISC</td>\n",
       "      <td>1997-01-14</td>\n",
       "      <td>14:46:53.62</td>\n",
       "      <td>30.5042</td>\n",
       "      <td>131.5143</td>\n",
       "      <td>34.4</td>\n",
       "      <td></td>\n",
       "      <td>NIED</td>\n",
       "      <td>Mw</td>\n",
       "      <td>4.5</td>\n",
       "      <td>(30.5042, 131.5143)</td>\n",
       "    </tr>\n",
       "    <tr>\n",
       "      <th>4</th>\n",
       "      <td>1006639</td>\n",
       "      <td>ke</td>\n",
       "      <td>ISC</td>\n",
       "      <td>1997-01-16</td>\n",
       "      <td>06:10:37.40</td>\n",
       "      <td>31.7345</td>\n",
       "      <td>131.7291</td>\n",
       "      <td>33.8</td>\n",
       "      <td></td>\n",
       "      <td>NIED</td>\n",
       "      <td>Mw</td>\n",
       "      <td>3.9</td>\n",
       "      <td>(31.7345, 131.7291)</td>\n",
       "    </tr>\n",
       "  </tbody>\n",
       "</table>\n",
       "</div>"
      ],
      "text/plain": [
       "   EVENTID  TYPE     AUTHOR        DATE         TIME      LAT       LON  \\\n",
       "0  1004915  ke    ISC        1997-01-04  12:31:52.00  33.8238  131.1687   \n",
       "1  1005850  ke    ISC        1997-01-11  05:50:23.79  31.5974  131.7461   \n",
       "2  1006351  ke    ISC        1997-01-14  08:48:35.66  33.2363  132.3621   \n",
       "3  1006386  ke    ISC        1997-01-14  14:46:53.62  30.5042  131.5143   \n",
       "4  1006639  ke    ISC        1997-01-16  06:10:37.40  31.7345  131.7291   \n",
       "\n",
       "   DEPTH  DEPFIX AUTHOR MAG TYPE MAG  MAG           COORDINATE  \n",
       "0   13.7          NIED        Mw      3.8  (33.8238, 131.1687)  \n",
       "1   40.0          NIED        Mw      5.4  (31.5974, 131.7461)  \n",
       "2    7.9          NIED        Mw      3.5  (33.2363, 132.3621)  \n",
       "3   34.4          NIED        Mw      4.5  (30.5042, 131.5143)  \n",
       "4   33.8          NIED        Mw      3.9  (31.7345, 131.7291)  "
      ]
     },
     "execution_count": 21,
     "metadata": {},
     "output_type": "execute_result"
    }
   ],
   "source": [
    "df.head()"
   ]
  },
  {
   "cell_type": "code",
   "execution_count": 48,
   "id": "268de227",
   "metadata": {},
   "outputs": [
    {
     "data": {
      "text/plain": [
       "135"
      ]
     },
     "execution_count": 48,
     "metadata": {},
     "output_type": "execute_result"
    }
   ],
   "source": [
    "df[(df['LAT'] - yst < dy) & (df['LON'] - xst < dx)].count()[0]"
   ]
  },
  {
   "cell_type": "code",
   "execution_count": 49,
   "id": "f2d54fcc",
   "metadata": {},
   "outputs": [],
   "source": [
    "for i in range(0, ceil(a_x / dx)):\n",
    "    for j in range(0, ceil(a_y / dy)):\n",
    "        grid[i][j] = df[(df['LAT'] - yst < dy * (j + 1)) & (df['LAT'] - yst > dy * j) &  (df['LON'] - xst > dx * i) &  (df['LON'] - xst < dx * (i + 1))].count()[0]"
   ]
  },
  {
   "cell_type": "code",
   "execution_count": 50,
   "id": "9627b279",
   "metadata": {},
   "outputs": [
    {
     "data": {
      "text/plain": [
       "array([[1.350e+02, 1.670e+02, 2.410e+02, 4.300e+01, 3.000e+00, 2.000e+00,\n",
       "        0.000e+00, 0.000e+00, 0.000e+00],\n",
       "       [0.000e+00, 1.500e+01, 2.300e+01, 9.500e+01, 1.090e+02, 0.000e+00,\n",
       "        0.000e+00, 0.000e+00, 0.000e+00],\n",
       "       [0.000e+00, 0.000e+00, 8.000e+00, 1.370e+02, 1.240e+02, 2.400e+01,\n",
       "        1.000e+00, 1.000e+00, 0.000e+00],\n",
       "       [0.000e+00, 9.000e+00, 1.400e+01, 1.950e+02, 1.730e+02, 7.100e+01,\n",
       "        7.000e+00, 0.000e+00, 1.000e+00],\n",
       "       [1.100e+01, 5.000e+00, 9.100e+01, 1.662e+03, 5.620e+02, 2.280e+02,\n",
       "        3.500e+01, 3.700e+01, 1.100e+01],\n",
       "       [4.100e+01, 2.400e+01, 6.000e+01, 1.190e+02, 3.000e+02, 4.730e+02,\n",
       "        2.700e+02, 2.580e+02, 1.680e+02],\n",
       "       [0.000e+00, 1.000e+00, 0.000e+00, 0.000e+00, 2.000e+00, 1.900e+01,\n",
       "        8.600e+01, 8.800e+01, 3.300e+01]])"
      ]
     },
     "execution_count": 50,
     "metadata": {},
     "output_type": "execute_result"
    }
   ],
   "source": [
    "grid / (np.pi * R ** 2)"
   ]
  },
  {
   "cell_type": "code",
   "execution_count": null,
   "id": "6f38eb60",
   "metadata": {},
   "outputs": [],
   "source": []
  }
 ],
 "metadata": {
  "kernelspec": {
   "display_name": "Python 3 (ipykernel)",
   "language": "python",
   "name": "python3"
  },
  "language_info": {
   "codemirror_mode": {
    "name": "ipython",
    "version": 3
   },
   "file_extension": ".py",
   "mimetype": "text/x-python",
   "name": "python",
   "nbconvert_exporter": "python",
   "pygments_lexer": "ipython3",
   "version": "3.8.10"
  }
 },
 "nbformat": 4,
 "nbformat_minor": 5
}
